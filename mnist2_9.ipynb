{
  "nbformat": 4,
  "nbformat_minor": 0,
  "metadata": {
    "colab": {
      "provenance": [],
      "include_colab_link": true
    },
    "kernelspec": {
      "name": "python3",
      "display_name": "Python 3"
    },
    "language_info": {
      "name": "python"
    },
    "accelerator": "GPU"
  },
  "cells": [
    {
      "cell_type": "markdown",
      "metadata": {
        "id": "view-in-github",
        "colab_type": "text"
      },
      "source": [
        "<a href=\"https://colab.research.google.com/github/lyhSuc/DataStructure/blob/master/mnist2_9.ipynb\" target=\"_parent\"><img src=\"https://colab.research.google.com/assets/colab-badge.svg\" alt=\"Open In Colab\"/></a>"
      ]
    },
    {
      "cell_type": "code",
      "metadata": {
        "colab": {
          "base_uri": "https://localhost:8080/"
        },
        "id": "9ouSHtne9n6s",
        "outputId": "7466d6da-688e-4222-e735-e982b4ab9a5d"
      },
      "source": [
        "!pip install -Uqq fastbook\n",
        "import fastbook\n",
        "fastbook.setup_book()"
      ],
      "execution_count": null,
      "outputs": [
        {
          "output_type": "stream",
          "name": "stdout",
          "text": [
            "\u001b[K     |████████████████████████████████| 720 kB 5.4 MB/s \n",
            "\u001b[K     |████████████████████████████████| 46 kB 3.8 MB/s \n",
            "\u001b[K     |████████████████████████████████| 1.2 MB 35.5 MB/s \n",
            "\u001b[K     |████████████████████████████████| 189 kB 46.1 MB/s \n",
            "\u001b[K     |████████████████████████████████| 56 kB 4.5 MB/s \n",
            "\u001b[K     |████████████████████████████████| 51 kB 312 kB/s \n",
            "\u001b[?25hMounted at /content/gdrive\n"
          ]
        }
      ]
    },
    {
      "cell_type": "code",
      "metadata": {
        "id": "hf_SNKPC9ulT"
      },
      "source": [
        "from fastai.vision.all import *\n",
        "from fastbook import *\n",
        "\n",
        "matplotlib.rc('image', cmap='Greys')"
      ],
      "execution_count": null,
      "outputs": []
    },
    {
      "cell_type": "code",
      "metadata": {
        "id": "5Nmo96KY9xSI",
        "colab": {
          "base_uri": "https://localhost:8080/",
          "height": 37
        },
        "outputId": "139a7bce-5641-40bc-d7fa-a1ddf2dcdfc5"
      },
      "source": [
        " path = untar_data(URLs.MNIST)\n",
        "Path.BASE_PATH = path"
      ],
      "execution_count": null,
      "outputs": [
        {
          "output_type": "display_data",
          "data": {
            "text/html": [
              "\n",
              "    <div>\n",
              "        <style>\n",
              "            /* Turns off some styling */\n",
              "            progress {\n",
              "                /* gets rid of default border in Firefox and Opera. */\n",
              "                border: none;\n",
              "                /* Needs to be in here for Safari polyfill so background images work as expected. */\n",
              "                background-size: auto;\n",
              "            }\n",
              "            .progress-bar-interrupted, .progress-bar-interrupted::-webkit-progress-bar {\n",
              "                background: #F44336;\n",
              "            }\n",
              "        </style>\n",
              "      <progress value='15687680' class='' max='15683414' style='width:300px; height:20px; vertical-align: middle;'></progress>\n",
              "      100.03% [15687680/15683414 00:00<00:00]\n",
              "    </div>\n",
              "    "
            ],
            "text/plain": [
              "<IPython.core.display.HTML object>"
            ]
          },
          "metadata": {}
        }
      ]
    },
    {
      "cell_type": "code",
      "metadata": {
        "colab": {
          "base_uri": "https://localhost:8080/"
        },
        "id": "43D2afZFYlBm",
        "outputId": "58cc5229-b412-4f92-823f-0e65362e2490"
      },
      "source": [
        "(path/\"training\").ls()\n"
      ],
      "execution_count": null,
      "outputs": [
        {
          "output_type": "execute_result",
          "data": {
            "text/plain": [
              "(#10) [Path('training/3'),Path('training/8'),Path('training/4'),Path('training/5'),Path('training/2'),Path('training/6'),Path('training/7'),Path('training/9'),Path('training/0'),Path('training/1')]"
            ]
          },
          "metadata": {},
          "execution_count": 54
        }
      ]
    },
    {
      "cell_type": "code",
      "metadata": {
        "colab": {
          "base_uri": "https://localhost:8080/"
        },
        "id": "_lhxuaNc6aqk",
        "outputId": "211aa781-552b-489d-f694-e3fd1e856929"
      },
      "source": [
        "(path/\"testing\").ls()"
      ],
      "execution_count": null,
      "outputs": [
        {
          "output_type": "execute_result",
          "data": {
            "text/plain": [
              "(#10) [Path('testing/3'),Path('testing/8'),Path('testing/4'),Path('testing/5'),Path('testing/2'),Path('testing/6'),Path('testing/7'),Path('testing/9'),Path('testing/0'),Path('testing/1')]"
            ]
          },
          "metadata": {},
          "execution_count": 11
        }
      ]
    },
    {
      "cell_type": "code",
      "metadata": {
        "colab": {
          "base_uri": "https://localhost:8080/",
          "height": 45
        },
        "id": "hUyp08PdZgRO",
        "outputId": "935fb593-847c-4983-8f1f-168853010ed2"
      },
      "source": [
        "twos = (path/'training'/'2').ls().sorted()\n",
        "nines = (path/'training'/'9').ls().sorted()\n",
        "im2_path = twos[1]\n",
        "im2 = Image.open(im2_path)\n",
        "im2"
      ],
      "execution_count": null,
      "outputs": [
        {
          "output_type": "execute_result",
          "data": {
            "image/png": "[encoded data removed]",
            "text/plain": [
              "<PIL.PngImagePlugin.PngImageFile image mode=L size=28x28 at 0x7F01E7C3FCD0>"
            ]
          },
          "metadata": {},
          "execution_count": 19
        }
      ]
    },
    {
      "cell_type": "code",
      "metadata": {
        "colab": {
          "base_uri": "https://localhost:8080/"
        },
        "id": "kkqttHwAaHDk",
        "outputId": "51707564-eb50-4650-9130-3244def3f399"
      },
      "source": [
        "tensor(im2)[5:20,5:20]\n"
      ],
      "execution_count": null,
      "outputs": [
        {
          "output_type": "execute_result",
          "data": {
            "text/plain": [
              "tensor([[  0,   0,   0,  25, 228,  95,   0,   0,   0, 113, 250, 254, 219,  24,   0],\n",
              "        [  0,   0,   0,  11,  41,   0,   0,   0,   0,   0,  80, 210, 254, 167,  22],\n",
              "        [  0,   0,   0,   0,   0,   0,   0,   0,   0,   0,   0,  75, 254, 254, 113],\n",
              "        [  0,   0,   0,   0,   0,   0,   0,   0,   0,   0,   0,  28, 223, 254, 161],\n",
              "        [  0,   0,   0,   0,   0,   0,   0,   0,   0,   0,   0,   0, 124, 254, 223],\n",
              "        [  0,   0,   0,   0,   0,   0,   0,   0,   0,   0,   0,   0,  82, 254, 254],\n",
              "        [  0,   0,   0,   0,   0,   0,   0,   0,   0,   0,   0,   0,  82, 254, 254],\n",
              "        [  0,   0,   0,   0,   0,   0,   0,   0,   0,   0,   0,   0,  82, 254, 254],\n",
              "        [  0,   0,   0,   0,   0,   0,   0,   0,   0,   0,   0,   0, 115, 254, 229],\n",
              "        [  0,   0,   0,   0,   0,   0,   0,   0,   0,   0,   0,  23, 220, 254, 161],\n",
              "        [  0,   0,   0,   0,   0,  12,  82,  82,  82,  82,  82,  93, 254, 254, 122],\n",
              "        [  0,   0,   0,   0,  54, 173, 254, 254, 254, 254, 254, 234, 254, 224,  24],\n",
              "        [  0,   0,   0,  10, 192, 254, 192,  76,  37, 151, 254, 254, 254, 199,  60],\n",
              "        [  0,   0,   0, 135, 254, 221,  11,   0,  23, 137, 254, 254, 254, 254, 243],\n",
              "        [  0,   0,   0, 149, 254, 105,   0,  73, 139, 254, 254, 134,  24, 128, 148]], dtype=torch.uint8)"
            ]
          },
          "metadata": {},
          "execution_count": 17
        }
      ]
    },
    {
      "cell_type": "code",
      "metadata": {
        "colab": {
          "base_uri": "https://localhost:8080/",
          "height": 514
        },
        "id": "LWrc0Snebmi4",
        "outputId": "fdf28efe-c9c2-4706-eebd-5fe323cfeacc"
      },
      "source": [
        "im2_t = tensor(im2)\n",
        "df = pd.DataFrame(im2_t[5:20,5:22])\n",
        "df.style.set_properties(**{'font-size':'6pt'}).background_gradient('Greys')"
      ],
      "execution_count": null,
      "outputs": [
        {
          "output_type": "execute_result",
          "data": {
            "text/html": [
              "<style  type=\"text/css\" >\n",
              "#T_fa58edb0_4ce7_11ec_8cfb_0242ac1c0002row0_col0,#T_fa58edb0_4ce7_11ec_8cfb_0242ac1c0002row0_col1,#T_fa58edb0_4ce7_11ec_8cfb_0242ac1c0002row0_col2,#T_fa58edb0_4ce7_11ec_8cfb_0242ac1c0002row0_col6,#T_fa58edb0_4ce7_11ec_8cfb_0242ac1c0002row0_col7,#T_fa58edb0_4ce7_11ec_8cfb_0242ac1c0002row0_col8,#T_fa58edb0_4ce7_11ec_8cfb_0242ac1c0002row0_col13,#T_fa58edb0_4ce7_11ec_8cfb_0242ac1c0002row0_col14,#T_fa58edb0_4ce7_11ec_8cfb_0242ac1c0002row0_col15,#T_fa58edb0_4ce7_11ec_8cfb_0242ac1c0002row0_col16,#T_fa58edb0_4ce7_11ec_8cfb_0242ac1c0002row1_col0,#T_fa58edb0_4ce7_11ec_8cfb_0242ac1c0002row1_col1,#T_fa58edb0_4ce7_11ec_8cfb_0242ac1c0002row1_col2,#T_fa58edb0_4ce7_11ec_8cfb_0242ac1c0002row1_col5,#T_fa58edb0_4ce7_11ec_8cfb_0242ac1c0002row1_col6,#T_fa58edb0_4ce7_11ec_8cfb_0242ac1c0002row1_col7,#T_fa58edb0_4ce7_11ec_8cfb_0242ac1c0002row1_col8,#T_fa58edb0_4ce7_11ec_8cfb_0242ac1c0002row1_col9,#T_fa58edb0_4ce7_11ec_8cfb_0242ac1c0002row1_col15,#T_fa58edb0_4ce7_11ec_8cfb_0242ac1c0002row1_col16,#T_fa58edb0_4ce7_11ec_8cfb_0242ac1c0002row2_col0,#T_fa58edb0_4ce7_11ec_8cfb_0242ac1c0002row2_col1,#T_fa58edb0_4ce7_11ec_8cfb_0242ac1c0002row2_col2,#T_fa58edb0_4ce7_11ec_8cfb_0242ac1c0002row2_col3,#T_fa58edb0_4ce7_11ec_8cfb_0242ac1c0002row2_col4,#T_fa58edb0_4ce7_11ec_8cfb_0242ac1c0002row2_col5,#T_fa58edb0_4ce7_11ec_8cfb_0242ac1c0002row2_col6,#T_fa58edb0_4ce7_11ec_8cfb_0242ac1c0002row2_col7,#T_fa58edb0_4ce7_11ec_8cfb_0242ac1c0002row2_col8,#T_fa58edb0_4ce7_11ec_8cfb_0242ac1c0002row2_col9,#T_fa58edb0_4ce7_11ec_8cfb_0242ac1c0002row2_col10,#T_fa58edb0_4ce7_11ec_8cfb_0242ac1c0002row2_col15,#T_fa58edb0_4ce7_11ec_8cfb_0242ac1c0002row2_col16,#T_fa58edb0_4ce7_11ec_8cfb_0242ac1c0002row3_col0,#T_fa58edb0_4ce7_11ec_8cfb_0242ac1c0002row3_col1,#T_fa58edb0_4ce7_11ec_8cfb_0242ac1c0002row3_col2,#T_fa58edb0_4ce7_11ec_8cfb_0242ac1c0002row3_col3,#T_fa58edb0_4ce7_11ec_8cfb_0242ac1c0002row3_col4,#T_fa58edb0_4ce7_11ec_8cfb_0242ac1c0002row3_col5,#T_fa58edb0_4ce7_11ec_8cfb_0242ac1c0002row3_col6,#T_fa58edb0_4ce7_11ec_8cfb_0242ac1c0002row3_col7,#T_fa58edb0_4ce7_11ec_8cfb_0242ac1c0002row3_col8,#T_fa58edb0_4ce7_11ec_8cfb_0242ac1c0002row3_col9,#T_fa58edb0_4ce7_11ec_8cfb_0242ac1c0002row3_col10,#T_fa58edb0_4ce7_11ec_8cfb_0242ac1c0002row3_col15,#T_fa58edb0_4ce7_11ec_8cfb_0242ac1c0002row3_col16,#T_fa58edb0_4ce7_11ec_8cfb_0242ac1c0002row4_col0,#T_fa58edb0_4ce7_11ec_8cfb_0242ac1c0002row4_col1,#T_fa58edb0_4ce7_11ec_8cfb_0242ac1c0002row4_col2,#T_fa58edb0_4ce7_11ec_8cfb_0242ac1c0002row4_col3,#T_fa58edb0_4ce7_11ec_8cfb_0242ac1c0002row4_col4,#T_fa58edb0_4ce7_11ec_8cfb_0242ac1c0002row4_col5,#T_fa58edb0_4ce7_11ec_8cfb_0242ac1c0002row4_col6,#T_fa58edb0_4ce7_11ec_8cfb_0242ac1c0002row4_col7,#T_fa58edb0_4ce7_11ec_8cfb_0242ac1c0002row4_col8,#T_fa58edb0_4ce7_11ec_8cfb_0242ac1c0002row4_col9,#T_fa58edb0_4ce7_11ec_8cfb_0242ac1c0002row4_col10,#T_fa58edb0_4ce7_11ec_8cfb_0242ac1c0002row4_col11,#T_fa58edb0_4ce7_11ec_8cfb_0242ac1c0002row4_col16,#T_fa58edb0_4ce7_11ec_8cfb_0242ac1c0002row5_col0,#T_fa58edb0_4ce7_11ec_8cfb_0242ac1c0002row5_col1,#T_fa58edb0_4ce7_11ec_8cfb_0242ac1c0002row5_col2,#T_fa58edb0_4ce7_11ec_8cfb_0242ac1c0002row5_col3,#T_fa58edb0_4ce7_11ec_8cfb_0242ac1c0002row5_col4,#T_fa58edb0_4ce7_11ec_8cfb_0242ac1c0002row5_col5,#T_fa58edb0_4ce7_11ec_8cfb_0242ac1c0002row5_col6,#T_fa58edb0_4ce7_11ec_8cfb_0242ac1c0002row5_col7,#T_fa58edb0_4ce7_11ec_8cfb_0242ac1c0002row5_col8,#T_fa58edb0_4ce7_11ec_8cfb_0242ac1c0002row5_col9,#T_fa58edb0_4ce7_11ec_8cfb_0242ac1c0002row5_col10,#T_fa58edb0_4ce7_11ec_8cfb_0242ac1c0002row5_col11,#T_fa58edb0_4ce7_11ec_8cfb_0242ac1c0002row5_col16,#T_fa58edb0_4ce7_11ec_8cfb_0242ac1c0002row6_col0,#T_fa58edb0_4ce7_11ec_8cfb_0242ac1c0002row6_col1,#T_fa58edb0_4ce7_11ec_8cfb_0242ac1c0002row6_col2,#T_fa58edb0_4ce7_11ec_8cfb_0242ac1c0002row6_col3,#T_fa58edb0_4ce7_11ec_8cfb_0242ac1c0002row6_col4,#T_fa58edb0_4ce7_11ec_8cfb_0242ac1c0002row6_col5,#T_fa58edb0_4ce7_11ec_8cfb_0242ac1c0002row6_col6,#T_fa58edb0_4ce7_11ec_8cfb_0242ac1c0002row6_col7,#T_fa58edb0_4ce7_11ec_8cfb_0242ac1c0002row6_col8,#T_fa58edb0_4ce7_11ec_8cfb_0242ac1c0002row6_col9,#T_fa58edb0_4ce7_11ec_8cfb_0242ac1c0002row6_col10,#T_fa58edb0_4ce7_11ec_8cfb_0242ac1c0002row6_col11,#T_fa58edb0_4ce7_11ec_8cfb_0242ac1c0002row6_col16,#T_fa58edb0_4ce7_11ec_8cfb_0242ac1c0002row7_col0,#T_fa58edb0_4ce7_11ec_8cfb_0242ac1c0002row7_col1,#T_fa58edb0_4ce7_11ec_8cfb_0242ac1c0002row7_col2,#T_fa58edb0_4ce7_11ec_8cfb_0242ac1c0002row7_col3,#T_fa58edb0_4ce7_11ec_8cfb_0242ac1c0002row7_col4,#T_fa58edb0_4ce7_11ec_8cfb_0242ac1c0002row7_col5,#T_fa58edb0_4ce7_11ec_8cfb_0242ac1c0002row7_col6,#T_fa58edb0_4ce7_11ec_8cfb_0242ac1c0002row7_col7,#T_fa58edb0_4ce7_11ec_8cfb_0242ac1c0002row7_col8,#T_fa58edb0_4ce7_11ec_8cfb_0242ac1c0002row7_col9,#T_fa58edb0_4ce7_11ec_8cfb_0242ac1c0002row7_col10,#T_fa58edb0_4ce7_11ec_8cfb_0242ac1c0002row7_col11,#T_fa58edb0_4ce7_11ec_8cfb_0242ac1c0002row7_col16,#T_fa58edb0_4ce7_11ec_8cfb_0242ac1c0002row8_col0,#T_fa58edb0_4ce7_11ec_8cfb_0242ac1c0002row8_col1,#T_fa58edb0_4ce7_11ec_8cfb_0242ac1c0002row8_col2,#T_fa58edb0_4ce7_11ec_8cfb_0242ac1c0002row8_col3,#T_fa58edb0_4ce7_11ec_8cfb_0242ac1c0002row8_col4,#T_fa58edb0_4ce7_11ec_8cfb_0242ac1c0002row8_col5,#T_fa58edb0_4ce7_11ec_8cfb_0242ac1c0002row8_col6,#T_fa58edb0_4ce7_11ec_8cfb_0242ac1c0002row8_col7,#T_fa58edb0_4ce7_11ec_8cfb_0242ac1c0002row8_col8,#T_fa58edb0_4ce7_11ec_8cfb_0242ac1c0002row8_col9,#T_fa58edb0_4ce7_11ec_8cfb_0242ac1c0002row8_col10,#T_fa58edb0_4ce7_11ec_8cfb_0242ac1c0002row8_col11,#T_fa58edb0_4ce7_11ec_8cfb_0242ac1c0002row8_col16,#T_fa58edb0_4ce7_11ec_8cfb_0242ac1c0002row9_col0,#T_fa58edb0_4ce7_11ec_8cfb_0242ac1c0002row9_col1,#T_fa58edb0_4ce7_11ec_8cfb_0242ac1c0002row9_col2,#T_fa58edb0_4ce7_11ec_8cfb_0242ac1c0002row9_col3,#T_fa58edb0_4ce7_11ec_8cfb_0242ac1c0002row9_col4,#T_fa58edb0_4ce7_11ec_8cfb_0242ac1c0002row9_col5,#T_fa58edb0_4ce7_11ec_8cfb_0242ac1c0002row9_col6,#T_fa58edb0_4ce7_11ec_8cfb_0242ac1c0002row9_col7,#T_fa58edb0_4ce7_11ec_8cfb_0242ac1c0002row9_col8,#T_fa58edb0_4ce7_11ec_8cfb_0242ac1c0002row9_col9,#T_fa58edb0_4ce7_11ec_8cfb_0242ac1c0002row9_col10,#T_fa58edb0_4ce7_11ec_8cfb_0242ac1c0002row9_col15,#T_fa58edb0_4ce7_11ec_8cfb_0242ac1c0002row9_col16,#T_fa58edb0_4ce7_11ec_8cfb_0242ac1c0002row10_col0,#T_fa58edb0_4ce7_11ec_8cfb_0242ac1c0002row10_col1,#T_fa58edb0_4ce7_11ec_8cfb_0242ac1c0002row10_col2,#T_fa58edb0_4ce7_11ec_8cfb_0242ac1c0002row10_col3,#T_fa58edb0_4ce7_11ec_8cfb_0242ac1c0002row10_col4,#T_fa58edb0_4ce7_11ec_8cfb_0242ac1c0002row10_col15,#T_fa58edb0_4ce7_11ec_8cfb_0242ac1c0002row10_col16,#T_fa58edb0_4ce7_11ec_8cfb_0242ac1c0002row11_col0,#T_fa58edb0_4ce7_11ec_8cfb_0242ac1c0002row11_col1,#T_fa58edb0_4ce7_11ec_8cfb_0242ac1c0002row11_col2,#T_fa58edb0_4ce7_11ec_8cfb_0242ac1c0002row11_col3,#T_fa58edb0_4ce7_11ec_8cfb_0242ac1c0002row11_col15,#T_fa58edb0_4ce7_11ec_8cfb_0242ac1c0002row11_col16,#T_fa58edb0_4ce7_11ec_8cfb_0242ac1c0002row12_col0,#T_fa58edb0_4ce7_11ec_8cfb_0242ac1c0002row12_col1,#T_fa58edb0_4ce7_11ec_8cfb_0242ac1c0002row12_col2,#T_fa58edb0_4ce7_11ec_8cfb_0242ac1c0002row12_col15,#T_fa58edb0_4ce7_11ec_8cfb_0242ac1c0002row12_col16,#T_fa58edb0_4ce7_11ec_8cfb_0242ac1c0002row13_col0,#T_fa58edb0_4ce7_11ec_8cfb_0242ac1c0002row13_col1,#T_fa58edb0_4ce7_11ec_8cfb_0242ac1c0002row13_col2,#T_fa58edb0_4ce7_11ec_8cfb_0242ac1c0002row13_col7,#T_fa58edb0_4ce7_11ec_8cfb_0242ac1c0002row13_col16,#T_fa58edb0_4ce7_11ec_8cfb_0242ac1c0002row14_col0,#T_fa58edb0_4ce7_11ec_8cfb_0242ac1c0002row14_col1,#T_fa58edb0_4ce7_11ec_8cfb_0242ac1c0002row14_col2,#T_fa58edb0_4ce7_11ec_8cfb_0242ac1c0002row14_col6,#T_fa58edb0_4ce7_11ec_8cfb_0242ac1c0002row14_col12{\n",
              "            font-size:  6pt;\n",
              "            background-color:  #ffffff;\n",
              "            color:  #000000;\n",
              "        }#T_fa58edb0_4ce7_11ec_8cfb_0242ac1c0002row0_col3,#T_fa58edb0_4ce7_11ec_8cfb_0242ac1c0002row1_col4,#T_fa58edb0_4ce7_11ec_8cfb_0242ac1c0002row5_col15,#T_fa58edb0_4ce7_11ec_8cfb_0242ac1c0002row6_col15,#T_fa58edb0_4ce7_11ec_8cfb_0242ac1c0002row7_col15{\n",
              "            font-size:  6pt;\n",
              "            background-color:  #e9e9e9;\n",
              "            color:  #000000;\n",
              "        }#T_fa58edb0_4ce7_11ec_8cfb_0242ac1c0002row0_col4{\n",
              "            font-size:  6pt;\n",
              "            background-color:  #1e1e1e;\n",
              "            color:  #f1f1f1;\n",
              "        }#T_fa58edb0_4ce7_11ec_8cfb_0242ac1c0002row0_col5{\n",
              "            font-size:  6pt;\n",
              "            background-color:  #bebebe;\n",
              "            color:  #000000;\n",
              "        }#T_fa58edb0_4ce7_11ec_8cfb_0242ac1c0002row0_col9,#T_fa58edb0_4ce7_11ec_8cfb_0242ac1c0002row2_col14{\n",
              "            font-size:  6pt;\n",
              "            background-color:  #a8a8a8;\n",
              "            color:  #000000;\n",
              "        }#T_fa58edb0_4ce7_11ec_8cfb_0242ac1c0002row0_col10{\n",
              "            font-size:  6pt;\n",
              "            background-color:  #050505;\n",
              "            color:  #f1f1f1;\n",
              "        }#T_fa58edb0_4ce7_11ec_8cfb_0242ac1c0002row0_col11,#T_fa58edb0_4ce7_11ec_8cfb_0242ac1c0002row1_col12,#T_fa58edb0_4ce7_11ec_8cfb_0242ac1c0002row2_col12,#T_fa58edb0_4ce7_11ec_8cfb_0242ac1c0002row2_col13,#T_fa58edb0_4ce7_11ec_8cfb_0242ac1c0002row3_col13,#T_fa58edb0_4ce7_11ec_8cfb_0242ac1c0002row4_col13,#T_fa58edb0_4ce7_11ec_8cfb_0242ac1c0002row5_col13,#T_fa58edb0_4ce7_11ec_8cfb_0242ac1c0002row5_col14,#T_fa58edb0_4ce7_11ec_8cfb_0242ac1c0002row6_col13,#T_fa58edb0_4ce7_11ec_8cfb_0242ac1c0002row6_col14,#T_fa58edb0_4ce7_11ec_8cfb_0242ac1c0002row7_col13,#T_fa58edb0_4ce7_11ec_8cfb_0242ac1c0002row7_col14,#T_fa58edb0_4ce7_11ec_8cfb_0242ac1c0002row8_col13,#T_fa58edb0_4ce7_11ec_8cfb_0242ac1c0002row9_col13,#T_fa58edb0_4ce7_11ec_8cfb_0242ac1c0002row10_col12,#T_fa58edb0_4ce7_11ec_8cfb_0242ac1c0002row10_col13,#T_fa58edb0_4ce7_11ec_8cfb_0242ac1c0002row11_col6,#T_fa58edb0_4ce7_11ec_8cfb_0242ac1c0002row11_col7,#T_fa58edb0_4ce7_11ec_8cfb_0242ac1c0002row11_col8,#T_fa58edb0_4ce7_11ec_8cfb_0242ac1c0002row11_col9,#T_fa58edb0_4ce7_11ec_8cfb_0242ac1c0002row11_col10,#T_fa58edb0_4ce7_11ec_8cfb_0242ac1c0002row11_col12,#T_fa58edb0_4ce7_11ec_8cfb_0242ac1c0002row12_col5,#T_fa58edb0_4ce7_11ec_8cfb_0242ac1c0002row12_col10,#T_fa58edb0_4ce7_11ec_8cfb_0242ac1c0002row12_col11,#T_fa58edb0_4ce7_11ec_8cfb_0242ac1c0002row12_col12,#T_fa58edb0_4ce7_11ec_8cfb_0242ac1c0002row13_col4,#T_fa58edb0_4ce7_11ec_8cfb_0242ac1c0002row13_col10,#T_fa58edb0_4ce7_11ec_8cfb_0242ac1c0002row13_col11,#T_fa58edb0_4ce7_11ec_8cfb_0242ac1c0002row13_col12,#T_fa58edb0_4ce7_11ec_8cfb_0242ac1c0002row13_col13,#T_fa58edb0_4ce7_11ec_8cfb_0242ac1c0002row14_col3,#T_fa58edb0_4ce7_11ec_8cfb_0242ac1c0002row14_col4,#T_fa58edb0_4ce7_11ec_8cfb_0242ac1c0002row14_col9,#T_fa58edb0_4ce7_11ec_8cfb_0242ac1c0002row14_col10,#T_fa58edb0_4ce7_11ec_8cfb_0242ac1c0002row14_col15,#T_fa58edb0_4ce7_11ec_8cfb_0242ac1c0002row14_col16{\n",
              "            font-size:  6pt;\n",
              "            background-color:  #000000;\n",
              "            color:  #f1f1f1;\n",
              "        }#T_fa58edb0_4ce7_11ec_8cfb_0242ac1c0002row0_col12{\n",
              "            font-size:  6pt;\n",
              "            background-color:  #2e2e2e;\n",
              "            color:  #f1f1f1;\n",
              "        }#T_fa58edb0_4ce7_11ec_8cfb_0242ac1c0002row1_col3,#T_fa58edb0_4ce7_11ec_8cfb_0242ac1c0002row12_col3{\n",
              "            font-size:  6pt;\n",
              "            background-color:  #f7f7f7;\n",
              "            color:  #000000;\n",
              "        }#T_fa58edb0_4ce7_11ec_8cfb_0242ac1c0002row1_col10{\n",
              "            font-size:  6pt;\n",
              "            background-color:  #cbcbcb;\n",
              "            color:  #000000;\n",
              "        }#T_fa58edb0_4ce7_11ec_8cfb_0242ac1c0002row1_col11{\n",
              "            font-size:  6pt;\n",
              "            background-color:  #363636;\n",
              "            color:  #f1f1f1;\n",
              "        }#T_fa58edb0_4ce7_11ec_8cfb_0242ac1c0002row1_col13{\n",
              "            font-size:  6pt;\n",
              "            background-color:  #737373;\n",
              "            color:  #000000;\n",
              "        }#T_fa58edb0_4ce7_11ec_8cfb_0242ac1c0002row1_col14{\n",
              "            font-size:  6pt;\n",
              "            background-color:  #f5f5f5;\n",
              "            color:  #000000;\n",
              "        }#T_fa58edb0_4ce7_11ec_8cfb_0242ac1c0002row2_col11{\n",
              "            font-size:  6pt;\n",
              "            background-color:  #cfcfcf;\n",
              "            color:  #000000;\n",
              "        }#T_fa58edb0_4ce7_11ec_8cfb_0242ac1c0002row3_col11,#T_fa58edb0_4ce7_11ec_8cfb_0242ac1c0002row4_col15{\n",
              "            font-size:  6pt;\n",
              "            background-color:  #f2f2f2;\n",
              "            color:  #000000;\n",
              "        }#T_fa58edb0_4ce7_11ec_8cfb_0242ac1c0002row3_col12{\n",
              "            font-size:  6pt;\n",
              "            background-color:  #282828;\n",
              "            color:  #f1f1f1;\n",
              "        }#T_fa58edb0_4ce7_11ec_8cfb_0242ac1c0002row3_col14,#T_fa58edb0_4ce7_11ec_8cfb_0242ac1c0002row9_col14{\n",
              "            font-size:  6pt;\n",
              "            background-color:  #707070;\n",
              "            color:  #000000;\n",
              "        }#T_fa58edb0_4ce7_11ec_8cfb_0242ac1c0002row4_col12{\n",
              "            font-size:  6pt;\n",
              "            background-color:  #aaaaaa;\n",
              "            color:  #000000;\n",
              "        }#T_fa58edb0_4ce7_11ec_8cfb_0242ac1c0002row4_col14{\n",
              "            font-size:  6pt;\n",
              "            background-color:  #242424;\n",
              "            color:  #f1f1f1;\n",
              "        }#T_fa58edb0_4ce7_11ec_8cfb_0242ac1c0002row5_col12,#T_fa58edb0_4ce7_11ec_8cfb_0242ac1c0002row6_col12,#T_fa58edb0_4ce7_11ec_8cfb_0242ac1c0002row7_col12{\n",
              "            font-size:  6pt;\n",
              "            background-color:  #d9d9d9;\n",
              "            color:  #000000;\n",
              "        }#T_fa58edb0_4ce7_11ec_8cfb_0242ac1c0002row8_col12{\n",
              "            font-size:  6pt;\n",
              "            background-color:  #b6b6b6;\n",
              "            color:  #000000;\n",
              "        }#T_fa58edb0_4ce7_11ec_8cfb_0242ac1c0002row8_col14{\n",
              "            font-size:  6pt;\n",
              "            background-color:  #1d1d1d;\n",
              "            color:  #f1f1f1;\n",
              "        }#T_fa58edb0_4ce7_11ec_8cfb_0242ac1c0002row8_col15{\n",
              "            font-size:  6pt;\n",
              "            background-color:  #f0f0f0;\n",
              "            color:  #000000;\n",
              "        }#T_fa58edb0_4ce7_11ec_8cfb_0242ac1c0002row9_col11,#T_fa58edb0_4ce7_11ec_8cfb_0242ac1c0002row11_col14,#T_fa58edb0_4ce7_11ec_8cfb_0242ac1c0002row13_col8{\n",
              "            font-size:  6pt;\n",
              "            background-color:  #f4f4f4;\n",
              "            color:  #000000;\n",
              "        }#T_fa58edb0_4ce7_11ec_8cfb_0242ac1c0002row9_col12{\n",
              "            font-size:  6pt;\n",
              "            background-color:  #2c2c2c;\n",
              "            color:  #f1f1f1;\n",
              "        }#T_fa58edb0_4ce7_11ec_8cfb_0242ac1c0002row10_col5{\n",
              "            font-size:  6pt;\n",
              "            background-color:  #f9f9f9;\n",
              "            color:  #000000;\n",
              "        }#T_fa58edb0_4ce7_11ec_8cfb_0242ac1c0002row10_col6,#T_fa58edb0_4ce7_11ec_8cfb_0242ac1c0002row10_col7,#T_fa58edb0_4ce7_11ec_8cfb_0242ac1c0002row10_col8,#T_fa58edb0_4ce7_11ec_8cfb_0242ac1c0002row10_col9,#T_fa58edb0_4ce7_11ec_8cfb_0242ac1c0002row10_col10{\n",
              "            font-size:  6pt;\n",
              "            background-color:  #c9c9c9;\n",
              "            color:  #000000;\n",
              "        }#T_fa58edb0_4ce7_11ec_8cfb_0242ac1c0002row10_col11{\n",
              "            font-size:  6pt;\n",
              "            background-color:  #bfbfbf;\n",
              "            color:  #000000;\n",
              "        }#T_fa58edb0_4ce7_11ec_8cfb_0242ac1c0002row10_col14{\n",
              "            font-size:  6pt;\n",
              "            background-color:  #9d9d9d;\n",
              "            color:  #000000;\n",
              "        }#T_fa58edb0_4ce7_11ec_8cfb_0242ac1c0002row11_col4{\n",
              "            font-size:  6pt;\n",
              "            background-color:  #e0e0e0;\n",
              "            color:  #000000;\n",
              "        }#T_fa58edb0_4ce7_11ec_8cfb_0242ac1c0002row11_col5{\n",
              "            font-size:  6pt;\n",
              "            background-color:  #646464;\n",
              "            color:  #f1f1f1;\n",
              "        }#T_fa58edb0_4ce7_11ec_8cfb_0242ac1c0002row11_col11{\n",
              "            font-size:  6pt;\n",
              "            background-color:  #171717;\n",
              "            color:  #f1f1f1;\n",
              "        }#T_fa58edb0_4ce7_11ec_8cfb_0242ac1c0002row11_col13,#T_fa58edb0_4ce7_11ec_8cfb_0242ac1c0002row13_col5{\n",
              "            font-size:  6pt;\n",
              "            background-color:  #272727;\n",
              "            color:  #f1f1f1;\n",
              "        }#T_fa58edb0_4ce7_11ec_8cfb_0242ac1c0002row12_col4,#T_fa58edb0_4ce7_11ec_8cfb_0242ac1c0002row12_col6{\n",
              "            font-size:  6pt;\n",
              "            background-color:  #505050;\n",
              "            color:  #f1f1f1;\n",
              "        }#T_fa58edb0_4ce7_11ec_8cfb_0242ac1c0002row12_col7{\n",
              "            font-size:  6pt;\n",
              "            background-color:  #cecece;\n",
              "            color:  #000000;\n",
              "        }#T_fa58edb0_4ce7_11ec_8cfb_0242ac1c0002row12_col8{\n",
              "            font-size:  6pt;\n",
              "            background-color:  #ececec;\n",
              "            color:  #000000;\n",
              "        }#T_fa58edb0_4ce7_11ec_8cfb_0242ac1c0002row12_col9{\n",
              "            font-size:  6pt;\n",
              "            background-color:  #7b7b7b;\n",
              "            color:  #000000;\n",
              "        }#T_fa58edb0_4ce7_11ec_8cfb_0242ac1c0002row12_col13{\n",
              "            font-size:  6pt;\n",
              "            background-color:  #4e4e4e;\n",
              "            color:  #f1f1f1;\n",
              "        }#T_fa58edb0_4ce7_11ec_8cfb_0242ac1c0002row12_col14{\n",
              "            font-size:  6pt;\n",
              "            background-color:  #dcdcdc;\n",
              "            color:  #000000;\n",
              "        }#T_fa58edb0_4ce7_11ec_8cfb_0242ac1c0002row13_col3{\n",
              "            font-size:  6pt;\n",
              "            background-color:  #1c1c1c;\n",
              "            color:  #f1f1f1;\n",
              "        }#T_fa58edb0_4ce7_11ec_8cfb_0242ac1c0002row13_col6{\n",
              "            font-size:  6pt;\n",
              "            background-color:  #fafafa;\n",
              "            color:  #000000;\n",
              "        }#T_fa58edb0_4ce7_11ec_8cfb_0242ac1c0002row13_col9{\n",
              "            font-size:  6pt;\n",
              "            background-color:  #8a8a8a;\n",
              "            color:  #000000;\n",
              "        }#T_fa58edb0_4ce7_11ec_8cfb_0242ac1c0002row13_col14{\n",
              "            font-size:  6pt;\n",
              "            background-color:  #0d0d0d;\n",
              "            color:  #f1f1f1;\n",
              "        }#T_fa58edb0_4ce7_11ec_8cfb_0242ac1c0002row13_col15{\n",
              "            font-size:  6pt;\n",
              "            background-color:  #515151;\n",
              "            color:  #f1f1f1;\n",
              "        }#T_fa58edb0_4ce7_11ec_8cfb_0242ac1c0002row14_col5{\n",
              "            font-size:  6pt;\n",
              "            background-color:  #b2b2b2;\n",
              "            color:  #000000;\n",
              "        }#T_fa58edb0_4ce7_11ec_8cfb_0242ac1c0002row14_col7{\n",
              "            font-size:  6pt;\n",
              "            background-color:  #d1d1d1;\n",
              "            color:  #000000;\n",
              "        }#T_fa58edb0_4ce7_11ec_8cfb_0242ac1c0002row14_col8{\n",
              "            font-size:  6pt;\n",
              "            background-color:  #888888;\n",
              "            color:  #000000;\n",
              "        }#T_fa58edb0_4ce7_11ec_8cfb_0242ac1c0002row14_col11{\n",
              "            font-size:  6pt;\n",
              "            background-color:  #8e8e8e;\n",
              "            color:  #000000;\n",
              "        }#T_fa58edb0_4ce7_11ec_8cfb_0242ac1c0002row14_col13{\n",
              "            font-size:  6pt;\n",
              "            background-color:  #a5a5a5;\n",
              "            color:  #000000;\n",
              "        }#T_fa58edb0_4ce7_11ec_8cfb_0242ac1c0002row14_col14{\n",
              "            font-size:  6pt;\n",
              "            background-color:  #7e7e7e;\n",
              "            color:  #000000;\n",
              "        }</style><table id=\"T_fa58edb0_4ce7_11ec_8cfb_0242ac1c0002\" class=\"dataframe\"><thead>    <tr>        <th class=\"blank level0\" ></th>        <th class=\"col_heading level0 col0\" >0</th>        <th class=\"col_heading level0 col1\" >1</th>        <th class=\"col_heading level0 col2\" >2</th>        <th class=\"col_heading level0 col3\" >3</th>        <th class=\"col_heading level0 col4\" >4</th>        <th class=\"col_heading level0 col5\" >5</th>        <th class=\"col_heading level0 col6\" >6</th>        <th class=\"col_heading level0 col7\" >7</th>        <th class=\"col_heading level0 col8\" >8</th>        <th class=\"col_heading level0 col9\" >9</th>        <th class=\"col_heading level0 col10\" >10</th>        <th class=\"col_heading level0 col11\" >11</th>        <th class=\"col_heading level0 col12\" >12</th>        <th class=\"col_heading level0 col13\" >13</th>        <th class=\"col_heading level0 col14\" >14</th>        <th class=\"col_heading level0 col15\" >15</th>        <th class=\"col_heading level0 col16\" >16</th>    </tr></thead><tbody>\n",
              "                <tr>\n",
              "                        <th id=\"T_fa58edb0_4ce7_11ec_8cfb_0242ac1c0002level0_row0\" class=\"row_heading level0 row0\" >0</th>\n",
              "                        <td id=\"T_fa58edb0_4ce7_11ec_8cfb_0242ac1c0002row0_col0\" class=\"data row0 col0\" >0</td>\n",
              "                        <td id=\"T_fa58edb0_4ce7_11ec_8cfb_0242ac1c0002row0_col1\" class=\"data row0 col1\" >0</td>\n",
              "                        <td id=\"T_fa58edb0_4ce7_11ec_8cfb_0242ac1c0002row0_col2\" class=\"data row0 col2\" >0</td>\n",
              "                        <td id=\"T_fa58edb0_4ce7_11ec_8cfb_0242ac1c0002row0_col3\" class=\"data row0 col3\" >25</td>\n",
              "                        <td id=\"T_fa58edb0_4ce7_11ec_8cfb_0242ac1c0002row0_col4\" class=\"data row0 col4\" >228</td>\n",
              "                        <td id=\"T_fa58edb0_4ce7_11ec_8cfb_0242ac1c0002row0_col5\" class=\"data row0 col5\" >95</td>\n",
              "                        <td id=\"T_fa58edb0_4ce7_11ec_8cfb_0242ac1c0002row0_col6\" class=\"data row0 col6\" >0</td>\n",
              "                        <td id=\"T_fa58edb0_4ce7_11ec_8cfb_0242ac1c0002row0_col7\" class=\"data row0 col7\" >0</td>\n",
              "                        <td id=\"T_fa58edb0_4ce7_11ec_8cfb_0242ac1c0002row0_col8\" class=\"data row0 col8\" >0</td>\n",
              "                        <td id=\"T_fa58edb0_4ce7_11ec_8cfb_0242ac1c0002row0_col9\" class=\"data row0 col9\" >113</td>\n",
              "                        <td id=\"T_fa58edb0_4ce7_11ec_8cfb_0242ac1c0002row0_col10\" class=\"data row0 col10\" >250</td>\n",
              "                        <td id=\"T_fa58edb0_4ce7_11ec_8cfb_0242ac1c0002row0_col11\" class=\"data row0 col11\" >254</td>\n",
              "                        <td id=\"T_fa58edb0_4ce7_11ec_8cfb_0242ac1c0002row0_col12\" class=\"data row0 col12\" >219</td>\n",
              "                        <td id=\"T_fa58edb0_4ce7_11ec_8cfb_0242ac1c0002row0_col13\" class=\"data row0 col13\" >24</td>\n",
              "                        <td id=\"T_fa58edb0_4ce7_11ec_8cfb_0242ac1c0002row0_col14\" class=\"data row0 col14\" >0</td>\n",
              "                        <td id=\"T_fa58edb0_4ce7_11ec_8cfb_0242ac1c0002row0_col15\" class=\"data row0 col15\" >0</td>\n",
              "                        <td id=\"T_fa58edb0_4ce7_11ec_8cfb_0242ac1c0002row0_col16\" class=\"data row0 col16\" >0</td>\n",
              "            </tr>\n",
              "            <tr>\n",
              "                        <th id=\"T_fa58edb0_4ce7_11ec_8cfb_0242ac1c0002level0_row1\" class=\"row_heading level0 row1\" >1</th>\n",
              "                        <td id=\"T_fa58edb0_4ce7_11ec_8cfb_0242ac1c0002row1_col0\" class=\"data row1 col0\" >0</td>\n",
              "                        <td id=\"T_fa58edb0_4ce7_11ec_8cfb_0242ac1c0002row1_col1\" class=\"data row1 col1\" >0</td>\n",
              "                        <td id=\"T_fa58edb0_4ce7_11ec_8cfb_0242ac1c0002row1_col2\" class=\"data row1 col2\" >0</td>\n",
              "                        <td id=\"T_fa58edb0_4ce7_11ec_8cfb_0242ac1c0002row1_col3\" class=\"data row1 col3\" >11</td>\n",
              "                        <td id=\"T_fa58edb0_4ce7_11ec_8cfb_0242ac1c0002row1_col4\" class=\"data row1 col4\" >41</td>\n",
              "                        <td id=\"T_fa58edb0_4ce7_11ec_8cfb_0242ac1c0002row1_col5\" class=\"data row1 col5\" >0</td>\n",
              "                        <td id=\"T_fa58edb0_4ce7_11ec_8cfb_0242ac1c0002row1_col6\" class=\"data row1 col6\" >0</td>\n",
              "                        <td id=\"T_fa58edb0_4ce7_11ec_8cfb_0242ac1c0002row1_col7\" class=\"data row1 col7\" >0</td>\n",
              "                        <td id=\"T_fa58edb0_4ce7_11ec_8cfb_0242ac1c0002row1_col8\" class=\"data row1 col8\" >0</td>\n",
              "                        <td id=\"T_fa58edb0_4ce7_11ec_8cfb_0242ac1c0002row1_col9\" class=\"data row1 col9\" >0</td>\n",
              "                        <td id=\"T_fa58edb0_4ce7_11ec_8cfb_0242ac1c0002row1_col10\" class=\"data row1 col10\" >80</td>\n",
              "                        <td id=\"T_fa58edb0_4ce7_11ec_8cfb_0242ac1c0002row1_col11\" class=\"data row1 col11\" >210</td>\n",
              "                        <td id=\"T_fa58edb0_4ce7_11ec_8cfb_0242ac1c0002row1_col12\" class=\"data row1 col12\" >254</td>\n",
              "                        <td id=\"T_fa58edb0_4ce7_11ec_8cfb_0242ac1c0002row1_col13\" class=\"data row1 col13\" >167</td>\n",
              "                        <td id=\"T_fa58edb0_4ce7_11ec_8cfb_0242ac1c0002row1_col14\" class=\"data row1 col14\" >22</td>\n",
              "                        <td id=\"T_fa58edb0_4ce7_11ec_8cfb_0242ac1c0002row1_col15\" class=\"data row1 col15\" >0</td>\n",
              "                        <td id=\"T_fa58edb0_4ce7_11ec_8cfb_0242ac1c0002row1_col16\" class=\"data row1 col16\" >0</td>\n",
              "            </tr>\n",
              "            <tr>\n",
              "                        <th id=\"T_fa58edb0_4ce7_11ec_8cfb_0242ac1c0002level0_row2\" class=\"row_heading level0 row2\" >2</th>\n",
              "                        <td id=\"T_fa58edb0_4ce7_11ec_8cfb_0242ac1c0002row2_col0\" class=\"data row2 col0\" >0</td>\n",
              "                        <td id=\"T_fa58edb0_4ce7_11ec_8cfb_0242ac1c0002row2_col1\" class=\"data row2 col1\" >0</td>\n",
              "                        <td id=\"T_fa58edb0_4ce7_11ec_8cfb_0242ac1c0002row2_col2\" class=\"data row2 col2\" >0</td>\n",
              "                        <td id=\"T_fa58edb0_4ce7_11ec_8cfb_0242ac1c0002row2_col3\" class=\"data row2 col3\" >0</td>\n",
              "                        <td id=\"T_fa58edb0_4ce7_11ec_8cfb_0242ac1c0002row2_col4\" class=\"data row2 col4\" >0</td>\n",
              "                        <td id=\"T_fa58edb0_4ce7_11ec_8cfb_0242ac1c0002row2_col5\" class=\"data row2 col5\" >0</td>\n",
              "                        <td id=\"T_fa58edb0_4ce7_11ec_8cfb_0242ac1c0002row2_col6\" class=\"data row2 col6\" >0</td>\n",
              "                        <td id=\"T_fa58edb0_4ce7_11ec_8cfb_0242ac1c0002row2_col7\" class=\"data row2 col7\" >0</td>\n",
              "                        <td id=\"T_fa58edb0_4ce7_11ec_8cfb_0242ac1c0002row2_col8\" class=\"data row2 col8\" >0</td>\n",
              "                        <td id=\"T_fa58edb0_4ce7_11ec_8cfb_0242ac1c0002row2_col9\" class=\"data row2 col9\" >0</td>\n",
              "                        <td id=\"T_fa58edb0_4ce7_11ec_8cfb_0242ac1c0002row2_col10\" class=\"data row2 col10\" >0</td>\n",
              "                        <td id=\"T_fa58edb0_4ce7_11ec_8cfb_0242ac1c0002row2_col11\" class=\"data row2 col11\" >75</td>\n",
              "                        <td id=\"T_fa58edb0_4ce7_11ec_8cfb_0242ac1c0002row2_col12\" class=\"data row2 col12\" >254</td>\n",
              "                        <td id=\"T_fa58edb0_4ce7_11ec_8cfb_0242ac1c0002row2_col13\" class=\"data row2 col13\" >254</td>\n",
              "                        <td id=\"T_fa58edb0_4ce7_11ec_8cfb_0242ac1c0002row2_col14\" class=\"data row2 col14\" >113</td>\n",
              "                        <td id=\"T_fa58edb0_4ce7_11ec_8cfb_0242ac1c0002row2_col15\" class=\"data row2 col15\" >0</td>\n",
              "                        <td id=\"T_fa58edb0_4ce7_11ec_8cfb_0242ac1c0002row2_col16\" class=\"data row2 col16\" >0</td>\n",
              "            </tr>\n",
              "            <tr>\n",
              "                        <th id=\"T_fa58edb0_4ce7_11ec_8cfb_0242ac1c0002level0_row3\" class=\"row_heading level0 row3\" >3</th>\n",
              "                        <td id=\"T_fa58edb0_4ce7_11ec_8cfb_0242ac1c0002row3_col0\" class=\"data row3 col0\" >0</td>\n",
              "                        <td id=\"T_fa58edb0_4ce7_11ec_8cfb_0242ac1c0002row3_col1\" class=\"data row3 col1\" >0</td>\n",
              "                        <td id=\"T_fa58edb0_4ce7_11ec_8cfb_0242ac1c0002row3_col2\" class=\"data row3 col2\" >0</td>\n",
              "                        <td id=\"T_fa58edb0_4ce7_11ec_8cfb_0242ac1c0002row3_col3\" class=\"data row3 col3\" >0</td>\n",
              "                        <td id=\"T_fa58edb0_4ce7_11ec_8cfb_0242ac1c0002row3_col4\" class=\"data row3 col4\" >0</td>\n",
              "                        <td id=\"T_fa58edb0_4ce7_11ec_8cfb_0242ac1c0002row3_col5\" class=\"data row3 col5\" >0</td>\n",
              "                        <td id=\"T_fa58edb0_4ce7_11ec_8cfb_0242ac1c0002row3_col6\" class=\"data row3 col6\" >0</td>\n",
              "                        <td id=\"T_fa58edb0_4ce7_11ec_8cfb_0242ac1c0002row3_col7\" class=\"data row3 col7\" >0</td>\n",
              "                        <td id=\"T_fa58edb0_4ce7_11ec_8cfb_0242ac1c0002row3_col8\" class=\"data row3 col8\" >0</td>\n",
              "                        <td id=\"T_fa58edb0_4ce7_11ec_8cfb_0242ac1c0002row3_col9\" class=\"data row3 col9\" >0</td>\n",
              "                        <td id=\"T_fa58edb0_4ce7_11ec_8cfb_0242ac1c0002row3_col10\" class=\"data row3 col10\" >0</td>\n",
              "                        <td id=\"T_fa58edb0_4ce7_11ec_8cfb_0242ac1c0002row3_col11\" class=\"data row3 col11\" >28</td>\n",
              "                        <td id=\"T_fa58edb0_4ce7_11ec_8cfb_0242ac1c0002row3_col12\" class=\"data row3 col12\" >223</td>\n",
              "                        <td id=\"T_fa58edb0_4ce7_11ec_8cfb_0242ac1c0002row3_col13\" class=\"data row3 col13\" >254</td>\n",
              "                        <td id=\"T_fa58edb0_4ce7_11ec_8cfb_0242ac1c0002row3_col14\" class=\"data row3 col14\" >161</td>\n",
              "                        <td id=\"T_fa58edb0_4ce7_11ec_8cfb_0242ac1c0002row3_col15\" class=\"data row3 col15\" >0</td>\n",
              "                        <td id=\"T_fa58edb0_4ce7_11ec_8cfb_0242ac1c0002row3_col16\" class=\"data row3 col16\" >0</td>\n",
              "            </tr>\n",
              "            <tr>\n",
              "                        <th id=\"T_fa58edb0_4ce7_11ec_8cfb_0242ac1c0002level0_row4\" class=\"row_heading level0 row4\" >4</th>\n",
              "                        <td id=\"T_fa58edb0_4ce7_11ec_8cfb_0242ac1c0002row4_col0\" class=\"data row4 col0\" >0</td>\n",
              "                        <td id=\"T_fa58edb0_4ce7_11ec_8cfb_0242ac1c0002row4_col1\" class=\"data row4 col1\" >0</td>\n",
              "                        <td id=\"T_fa58edb0_4ce7_11ec_8cfb_0242ac1c0002row4_col2\" class=\"data row4 col2\" >0</td>\n",
              "                        <td id=\"T_fa58edb0_4ce7_11ec_8cfb_0242ac1c0002row4_col3\" class=\"data row4 col3\" >0</td>\n",
              "                        <td id=\"T_fa58edb0_4ce7_11ec_8cfb_0242ac1c0002row4_col4\" class=\"data row4 col4\" >0</td>\n",
              "                        <td id=\"T_fa58edb0_4ce7_11ec_8cfb_0242ac1c0002row4_col5\" class=\"data row4 col5\" >0</td>\n",
              "                        <td id=\"T_fa58edb0_4ce7_11ec_8cfb_0242ac1c0002row4_col6\" class=\"data row4 col6\" >0</td>\n",
              "                        <td id=\"T_fa58edb0_4ce7_11ec_8cfb_0242ac1c0002row4_col7\" class=\"data row4 col7\" >0</td>\n",
              "                        <td id=\"T_fa58edb0_4ce7_11ec_8cfb_0242ac1c0002row4_col8\" class=\"data row4 col8\" >0</td>\n",
              "                        <td id=\"T_fa58edb0_4ce7_11ec_8cfb_0242ac1c0002row4_col9\" class=\"data row4 col9\" >0</td>\n",
              "                        <td id=\"T_fa58edb0_4ce7_11ec_8cfb_0242ac1c0002row4_col10\" class=\"data row4 col10\" >0</td>\n",
              "                        <td id=\"T_fa58edb0_4ce7_11ec_8cfb_0242ac1c0002row4_col11\" class=\"data row4 col11\" >0</td>\n",
              "                        <td id=\"T_fa58edb0_4ce7_11ec_8cfb_0242ac1c0002row4_col12\" class=\"data row4 col12\" >124</td>\n",
              "                        <td id=\"T_fa58edb0_4ce7_11ec_8cfb_0242ac1c0002row4_col13\" class=\"data row4 col13\" >254</td>\n",
              "                        <td id=\"T_fa58edb0_4ce7_11ec_8cfb_0242ac1c0002row4_col14\" class=\"data row4 col14\" >223</td>\n",
              "                        <td id=\"T_fa58edb0_4ce7_11ec_8cfb_0242ac1c0002row4_col15\" class=\"data row4 col15\" >20</td>\n",
              "                        <td id=\"T_fa58edb0_4ce7_11ec_8cfb_0242ac1c0002row4_col16\" class=\"data row4 col16\" >0</td>\n",
              "            </tr>\n",
              "            <tr>\n",
              "                        <th id=\"T_fa58edb0_4ce7_11ec_8cfb_0242ac1c0002level0_row5\" class=\"row_heading level0 row5\" >5</th>\n",
              "                        <td id=\"T_fa58edb0_4ce7_11ec_8cfb_0242ac1c0002row5_col0\" class=\"data row5 col0\" >0</td>\n",
              "                        <td id=\"T_fa58edb0_4ce7_11ec_8cfb_0242ac1c0002row5_col1\" class=\"data row5 col1\" >0</td>\n",
              "                        <td id=\"T_fa58edb0_4ce7_11ec_8cfb_0242ac1c0002row5_col2\" class=\"data row5 col2\" >0</td>\n",
              "                        <td id=\"T_fa58edb0_4ce7_11ec_8cfb_0242ac1c0002row5_col3\" class=\"data row5 col3\" >0</td>\n",
              "                        <td id=\"T_fa58edb0_4ce7_11ec_8cfb_0242ac1c0002row5_col4\" class=\"data row5 col4\" >0</td>\n",
              "                        <td id=\"T_fa58edb0_4ce7_11ec_8cfb_0242ac1c0002row5_col5\" class=\"data row5 col5\" >0</td>\n",
              "                        <td id=\"T_fa58edb0_4ce7_11ec_8cfb_0242ac1c0002row5_col6\" class=\"data row5 col6\" >0</td>\n",
              "                        <td id=\"T_fa58edb0_4ce7_11ec_8cfb_0242ac1c0002row5_col7\" class=\"data row5 col7\" >0</td>\n",
              "                        <td id=\"T_fa58edb0_4ce7_11ec_8cfb_0242ac1c0002row5_col8\" class=\"data row5 col8\" >0</td>\n",
              "                        <td id=\"T_fa58edb0_4ce7_11ec_8cfb_0242ac1c0002row5_col9\" class=\"data row5 col9\" >0</td>\n",
              "                        <td id=\"T_fa58edb0_4ce7_11ec_8cfb_0242ac1c0002row5_col10\" class=\"data row5 col10\" >0</td>\n",
              "                        <td id=\"T_fa58edb0_4ce7_11ec_8cfb_0242ac1c0002row5_col11\" class=\"data row5 col11\" >0</td>\n",
              "                        <td id=\"T_fa58edb0_4ce7_11ec_8cfb_0242ac1c0002row5_col12\" class=\"data row5 col12\" >82</td>\n",
              "                        <td id=\"T_fa58edb0_4ce7_11ec_8cfb_0242ac1c0002row5_col13\" class=\"data row5 col13\" >254</td>\n",
              "                        <td id=\"T_fa58edb0_4ce7_11ec_8cfb_0242ac1c0002row5_col14\" class=\"data row5 col14\" >254</td>\n",
              "                        <td id=\"T_fa58edb0_4ce7_11ec_8cfb_0242ac1c0002row5_col15\" class=\"data row5 col15\" >30</td>\n",
              "                        <td id=\"T_fa58edb0_4ce7_11ec_8cfb_0242ac1c0002row5_col16\" class=\"data row5 col16\" >0</td>\n",
              "            </tr>\n",
              "            <tr>\n",
              "                        <th id=\"T_fa58edb0_4ce7_11ec_8cfb_0242ac1c0002level0_row6\" class=\"row_heading level0 row6\" >6</th>\n",
              "                        <td id=\"T_fa58edb0_4ce7_11ec_8cfb_0242ac1c0002row6_col0\" class=\"data row6 col0\" >0</td>\n",
              "                        <td id=\"T_fa58edb0_4ce7_11ec_8cfb_0242ac1c0002row6_col1\" class=\"data row6 col1\" >0</td>\n",
              "                        <td id=\"T_fa58edb0_4ce7_11ec_8cfb_0242ac1c0002row6_col2\" class=\"data row6 col2\" >0</td>\n",
              "                        <td id=\"T_fa58edb0_4ce7_11ec_8cfb_0242ac1c0002row6_col3\" class=\"data row6 col3\" >0</td>\n",
              "                        <td id=\"T_fa58edb0_4ce7_11ec_8cfb_0242ac1c0002row6_col4\" class=\"data row6 col4\" >0</td>\n",
              "                        <td id=\"T_fa58edb0_4ce7_11ec_8cfb_0242ac1c0002row6_col5\" class=\"data row6 col5\" >0</td>\n",
              "                        <td id=\"T_fa58edb0_4ce7_11ec_8cfb_0242ac1c0002row6_col6\" class=\"data row6 col6\" >0</td>\n",
              "                        <td id=\"T_fa58edb0_4ce7_11ec_8cfb_0242ac1c0002row6_col7\" class=\"data row6 col7\" >0</td>\n",
              "                        <td id=\"T_fa58edb0_4ce7_11ec_8cfb_0242ac1c0002row6_col8\" class=\"data row6 col8\" >0</td>\n",
              "                        <td id=\"T_fa58edb0_4ce7_11ec_8cfb_0242ac1c0002row6_col9\" class=\"data row6 col9\" >0</td>\n",
              "                        <td id=\"T_fa58edb0_4ce7_11ec_8cfb_0242ac1c0002row6_col10\" class=\"data row6 col10\" >0</td>\n",
              "                        <td id=\"T_fa58edb0_4ce7_11ec_8cfb_0242ac1c0002row6_col11\" class=\"data row6 col11\" >0</td>\n",
              "                        <td id=\"T_fa58edb0_4ce7_11ec_8cfb_0242ac1c0002row6_col12\" class=\"data row6 col12\" >82</td>\n",
              "                        <td id=\"T_fa58edb0_4ce7_11ec_8cfb_0242ac1c0002row6_col13\" class=\"data row6 col13\" >254</td>\n",
              "                        <td id=\"T_fa58edb0_4ce7_11ec_8cfb_0242ac1c0002row6_col14\" class=\"data row6 col14\" >254</td>\n",
              "                        <td id=\"T_fa58edb0_4ce7_11ec_8cfb_0242ac1c0002row6_col15\" class=\"data row6 col15\" >30</td>\n",
              "                        <td id=\"T_fa58edb0_4ce7_11ec_8cfb_0242ac1c0002row6_col16\" class=\"data row6 col16\" >0</td>\n",
              "            </tr>\n",
              "            <tr>\n",
              "                        <th id=\"T_fa58edb0_4ce7_11ec_8cfb_0242ac1c0002level0_row7\" class=\"row_heading level0 row7\" >7</th>\n",
              "                        <td id=\"T_fa58edb0_4ce7_11ec_8cfb_0242ac1c0002row7_col0\" class=\"data row7 col0\" >0</td>\n",
              "                        <td id=\"T_fa58edb0_4ce7_11ec_8cfb_0242ac1c0002row7_col1\" class=\"data row7 col1\" >0</td>\n",
              "                        <td id=\"T_fa58edb0_4ce7_11ec_8cfb_0242ac1c0002row7_col2\" class=\"data row7 col2\" >0</td>\n",
              "                        <td id=\"T_fa58edb0_4ce7_11ec_8cfb_0242ac1c0002row7_col3\" class=\"data row7 col3\" >0</td>\n",
              "                        <td id=\"T_fa58edb0_4ce7_11ec_8cfb_0242ac1c0002row7_col4\" class=\"data row7 col4\" >0</td>\n",
              "                        <td id=\"T_fa58edb0_4ce7_11ec_8cfb_0242ac1c0002row7_col5\" class=\"data row7 col5\" >0</td>\n",
              "                        <td id=\"T_fa58edb0_4ce7_11ec_8cfb_0242ac1c0002row7_col6\" class=\"data row7 col6\" >0</td>\n",
              "                        <td id=\"T_fa58edb0_4ce7_11ec_8cfb_0242ac1c0002row7_col7\" class=\"data row7 col7\" >0</td>\n",
              "                        <td id=\"T_fa58edb0_4ce7_11ec_8cfb_0242ac1c0002row7_col8\" class=\"data row7 col8\" >0</td>\n",
              "                        <td id=\"T_fa58edb0_4ce7_11ec_8cfb_0242ac1c0002row7_col9\" class=\"data row7 col9\" >0</td>\n",
              "                        <td id=\"T_fa58edb0_4ce7_11ec_8cfb_0242ac1c0002row7_col10\" class=\"data row7 col10\" >0</td>\n",
              "                        <td id=\"T_fa58edb0_4ce7_11ec_8cfb_0242ac1c0002row7_col11\" class=\"data row7 col11\" >0</td>\n",
              "                        <td id=\"T_fa58edb0_4ce7_11ec_8cfb_0242ac1c0002row7_col12\" class=\"data row7 col12\" >82</td>\n",
              "                        <td id=\"T_fa58edb0_4ce7_11ec_8cfb_0242ac1c0002row7_col13\" class=\"data row7 col13\" >254</td>\n",
              "                        <td id=\"T_fa58edb0_4ce7_11ec_8cfb_0242ac1c0002row7_col14\" class=\"data row7 col14\" >254</td>\n",
              "                        <td id=\"T_fa58edb0_4ce7_11ec_8cfb_0242ac1c0002row7_col15\" class=\"data row7 col15\" >30</td>\n",
              "                        <td id=\"T_fa58edb0_4ce7_11ec_8cfb_0242ac1c0002row7_col16\" class=\"data row7 col16\" >0</td>\n",
              "            </tr>\n",
              "            <tr>\n",
              "                        <th id=\"T_fa58edb0_4ce7_11ec_8cfb_0242ac1c0002level0_row8\" class=\"row_heading level0 row8\" >8</th>\n",
              "                        <td id=\"T_fa58edb0_4ce7_11ec_8cfb_0242ac1c0002row8_col0\" class=\"data row8 col0\" >0</td>\n",
              "                        <td id=\"T_fa58edb0_4ce7_11ec_8cfb_0242ac1c0002row8_col1\" class=\"data row8 col1\" >0</td>\n",
              "                        <td id=\"T_fa58edb0_4ce7_11ec_8cfb_0242ac1c0002row8_col2\" class=\"data row8 col2\" >0</td>\n",
              "                        <td id=\"T_fa58edb0_4ce7_11ec_8cfb_0242ac1c0002row8_col3\" class=\"data row8 col3\" >0</td>\n",
              "                        <td id=\"T_fa58edb0_4ce7_11ec_8cfb_0242ac1c0002row8_col4\" class=\"data row8 col4\" >0</td>\n",
              "                        <td id=\"T_fa58edb0_4ce7_11ec_8cfb_0242ac1c0002row8_col5\" class=\"data row8 col5\" >0</td>\n",
              "                        <td id=\"T_fa58edb0_4ce7_11ec_8cfb_0242ac1c0002row8_col6\" class=\"data row8 col6\" >0</td>\n",
              "                        <td id=\"T_fa58edb0_4ce7_11ec_8cfb_0242ac1c0002row8_col7\" class=\"data row8 col7\" >0</td>\n",
              "                        <td id=\"T_fa58edb0_4ce7_11ec_8cfb_0242ac1c0002row8_col8\" class=\"data row8 col8\" >0</td>\n",
              "                        <td id=\"T_fa58edb0_4ce7_11ec_8cfb_0242ac1c0002row8_col9\" class=\"data row8 col9\" >0</td>\n",
              "                        <td id=\"T_fa58edb0_4ce7_11ec_8cfb_0242ac1c0002row8_col10\" class=\"data row8 col10\" >0</td>\n",
              "                        <td id=\"T_fa58edb0_4ce7_11ec_8cfb_0242ac1c0002row8_col11\" class=\"data row8 col11\" >0</td>\n",
              "                        <td id=\"T_fa58edb0_4ce7_11ec_8cfb_0242ac1c0002row8_col12\" class=\"data row8 col12\" >115</td>\n",
              "                        <td id=\"T_fa58edb0_4ce7_11ec_8cfb_0242ac1c0002row8_col13\" class=\"data row8 col13\" >254</td>\n",
              "                        <td id=\"T_fa58edb0_4ce7_11ec_8cfb_0242ac1c0002row8_col14\" class=\"data row8 col14\" >229</td>\n",
              "                        <td id=\"T_fa58edb0_4ce7_11ec_8cfb_0242ac1c0002row8_col15\" class=\"data row8 col15\" >22</td>\n",
              "                        <td id=\"T_fa58edb0_4ce7_11ec_8cfb_0242ac1c0002row8_col16\" class=\"data row8 col16\" >0</td>\n",
              "            </tr>\n",
              "            <tr>\n",
              "                        <th id=\"T_fa58edb0_4ce7_11ec_8cfb_0242ac1c0002level0_row9\" class=\"row_heading level0 row9\" >9</th>\n",
              "                        <td id=\"T_fa58edb0_4ce7_11ec_8cfb_0242ac1c0002row9_col0\" class=\"data row9 col0\" >0</td>\n",
              "                        <td id=\"T_fa58edb0_4ce7_11ec_8cfb_0242ac1c0002row9_col1\" class=\"data row9 col1\" >0</td>\n",
              "                        <td id=\"T_fa58edb0_4ce7_11ec_8cfb_0242ac1c0002row9_col2\" class=\"data row9 col2\" >0</td>\n",
              "                        <td id=\"T_fa58edb0_4ce7_11ec_8cfb_0242ac1c0002row9_col3\" class=\"data row9 col3\" >0</td>\n",
              "                        <td id=\"T_fa58edb0_4ce7_11ec_8cfb_0242ac1c0002row9_col4\" class=\"data row9 col4\" >0</td>\n",
              "                        <td id=\"T_fa58edb0_4ce7_11ec_8cfb_0242ac1c0002row9_col5\" class=\"data row9 col5\" >0</td>\n",
              "                        <td id=\"T_fa58edb0_4ce7_11ec_8cfb_0242ac1c0002row9_col6\" class=\"data row9 col6\" >0</td>\n",
              "                        <td id=\"T_fa58edb0_4ce7_11ec_8cfb_0242ac1c0002row9_col7\" class=\"data row9 col7\" >0</td>\n",
              "                        <td id=\"T_fa58edb0_4ce7_11ec_8cfb_0242ac1c0002row9_col8\" class=\"data row9 col8\" >0</td>\n",
              "                        <td id=\"T_fa58edb0_4ce7_11ec_8cfb_0242ac1c0002row9_col9\" class=\"data row9 col9\" >0</td>\n",
              "                        <td id=\"T_fa58edb0_4ce7_11ec_8cfb_0242ac1c0002row9_col10\" class=\"data row9 col10\" >0</td>\n",
              "                        <td id=\"T_fa58edb0_4ce7_11ec_8cfb_0242ac1c0002row9_col11\" class=\"data row9 col11\" >23</td>\n",
              "                        <td id=\"T_fa58edb0_4ce7_11ec_8cfb_0242ac1c0002row9_col12\" class=\"data row9 col12\" >220</td>\n",
              "                        <td id=\"T_fa58edb0_4ce7_11ec_8cfb_0242ac1c0002row9_col13\" class=\"data row9 col13\" >254</td>\n",
              "                        <td id=\"T_fa58edb0_4ce7_11ec_8cfb_0242ac1c0002row9_col14\" class=\"data row9 col14\" >161</td>\n",
              "                        <td id=\"T_fa58edb0_4ce7_11ec_8cfb_0242ac1c0002row9_col15\" class=\"data row9 col15\" >0</td>\n",
              "                        <td id=\"T_fa58edb0_4ce7_11ec_8cfb_0242ac1c0002row9_col16\" class=\"data row9 col16\" >0</td>\n",
              "            </tr>\n",
              "            <tr>\n",
              "                        <th id=\"T_fa58edb0_4ce7_11ec_8cfb_0242ac1c0002level0_row10\" class=\"row_heading level0 row10\" >10</th>\n",
              "                        <td id=\"T_fa58edb0_4ce7_11ec_8cfb_0242ac1c0002row10_col0\" class=\"data row10 col0\" >0</td>\n",
              "                        <td id=\"T_fa58edb0_4ce7_11ec_8cfb_0242ac1c0002row10_col1\" class=\"data row10 col1\" >0</td>\n",
              "                        <td id=\"T_fa58edb0_4ce7_11ec_8cfb_0242ac1c0002row10_col2\" class=\"data row10 col2\" >0</td>\n",
              "                        <td id=\"T_fa58edb0_4ce7_11ec_8cfb_0242ac1c0002row10_col3\" class=\"data row10 col3\" >0</td>\n",
              "                        <td id=\"T_fa58edb0_4ce7_11ec_8cfb_0242ac1c0002row10_col4\" class=\"data row10 col4\" >0</td>\n",
              "                        <td id=\"T_fa58edb0_4ce7_11ec_8cfb_0242ac1c0002row10_col5\" class=\"data row10 col5\" >12</td>\n",
              "                        <td id=\"T_fa58edb0_4ce7_11ec_8cfb_0242ac1c0002row10_col6\" class=\"data row10 col6\" >82</td>\n",
              "                        <td id=\"T_fa58edb0_4ce7_11ec_8cfb_0242ac1c0002row10_col7\" class=\"data row10 col7\" >82</td>\n",
              "                        <td id=\"T_fa58edb0_4ce7_11ec_8cfb_0242ac1c0002row10_col8\" class=\"data row10 col8\" >82</td>\n",
              "                        <td id=\"T_fa58edb0_4ce7_11ec_8cfb_0242ac1c0002row10_col9\" class=\"data row10 col9\" >82</td>\n",
              "                        <td id=\"T_fa58edb0_4ce7_11ec_8cfb_0242ac1c0002row10_col10\" class=\"data row10 col10\" >82</td>\n",
              "                        <td id=\"T_fa58edb0_4ce7_11ec_8cfb_0242ac1c0002row10_col11\" class=\"data row10 col11\" >93</td>\n",
              "                        <td id=\"T_fa58edb0_4ce7_11ec_8cfb_0242ac1c0002row10_col12\" class=\"data row10 col12\" >254</td>\n",
              "                        <td id=\"T_fa58edb0_4ce7_11ec_8cfb_0242ac1c0002row10_col13\" class=\"data row10 col13\" >254</td>\n",
              "                        <td id=\"T_fa58edb0_4ce7_11ec_8cfb_0242ac1c0002row10_col14\" class=\"data row10 col14\" >122</td>\n",
              "                        <td id=\"T_fa58edb0_4ce7_11ec_8cfb_0242ac1c0002row10_col15\" class=\"data row10 col15\" >0</td>\n",
              "                        <td id=\"T_fa58edb0_4ce7_11ec_8cfb_0242ac1c0002row10_col16\" class=\"data row10 col16\" >0</td>\n",
              "            </tr>\n",
              "            <tr>\n",
              "                        <th id=\"T_fa58edb0_4ce7_11ec_8cfb_0242ac1c0002level0_row11\" class=\"row_heading level0 row11\" >11</th>\n",
              "                        <td id=\"T_fa58edb0_4ce7_11ec_8cfb_0242ac1c0002row11_col0\" class=\"data row11 col0\" >0</td>\n",
              "                        <td id=\"T_fa58edb0_4ce7_11ec_8cfb_0242ac1c0002row11_col1\" class=\"data row11 col1\" >0</td>\n",
              "                        <td id=\"T_fa58edb0_4ce7_11ec_8cfb_0242ac1c0002row11_col2\" class=\"data row11 col2\" >0</td>\n",
              "                        <td id=\"T_fa58edb0_4ce7_11ec_8cfb_0242ac1c0002row11_col3\" class=\"data row11 col3\" >0</td>\n",
              "                        <td id=\"T_fa58edb0_4ce7_11ec_8cfb_0242ac1c0002row11_col4\" class=\"data row11 col4\" >54</td>\n",
              "                        <td id=\"T_fa58edb0_4ce7_11ec_8cfb_0242ac1c0002row11_col5\" class=\"data row11 col5\" >173</td>\n",
              "                        <td id=\"T_fa58edb0_4ce7_11ec_8cfb_0242ac1c0002row11_col6\" class=\"data row11 col6\" >254</td>\n",
              "                        <td id=\"T_fa58edb0_4ce7_11ec_8cfb_0242ac1c0002row11_col7\" class=\"data row11 col7\" >254</td>\n",
              "                        <td id=\"T_fa58edb0_4ce7_11ec_8cfb_0242ac1c0002row11_col8\" class=\"data row11 col8\" >254</td>\n",
              "                        <td id=\"T_fa58edb0_4ce7_11ec_8cfb_0242ac1c0002row11_col9\" class=\"data row11 col9\" >254</td>\n",
              "                        <td id=\"T_fa58edb0_4ce7_11ec_8cfb_0242ac1c0002row11_col10\" class=\"data row11 col10\" >254</td>\n",
              "                        <td id=\"T_fa58edb0_4ce7_11ec_8cfb_0242ac1c0002row11_col11\" class=\"data row11 col11\" >234</td>\n",
              "                        <td id=\"T_fa58edb0_4ce7_11ec_8cfb_0242ac1c0002row11_col12\" class=\"data row11 col12\" >254</td>\n",
              "                        <td id=\"T_fa58edb0_4ce7_11ec_8cfb_0242ac1c0002row11_col13\" class=\"data row11 col13\" >224</td>\n",
              "                        <td id=\"T_fa58edb0_4ce7_11ec_8cfb_0242ac1c0002row11_col14\" class=\"data row11 col14\" >24</td>\n",
              "                        <td id=\"T_fa58edb0_4ce7_11ec_8cfb_0242ac1c0002row11_col15\" class=\"data row11 col15\" >0</td>\n",
              "                        <td id=\"T_fa58edb0_4ce7_11ec_8cfb_0242ac1c0002row11_col16\" class=\"data row11 col16\" >0</td>\n",
              "            </tr>\n",
              "            <tr>\n",
              "                        <th id=\"T_fa58edb0_4ce7_11ec_8cfb_0242ac1c0002level0_row12\" class=\"row_heading level0 row12\" >12</th>\n",
              "                        <td id=\"T_fa58edb0_4ce7_11ec_8cfb_0242ac1c0002row12_col0\" class=\"data row12 col0\" >0</td>\n",
              "                        <td id=\"T_fa58edb0_4ce7_11ec_8cfb_0242ac1c0002row12_col1\" class=\"data row12 col1\" >0</td>\n",
              "                        <td id=\"T_fa58edb0_4ce7_11ec_8cfb_0242ac1c0002row12_col2\" class=\"data row12 col2\" >0</td>\n",
              "                        <td id=\"T_fa58edb0_4ce7_11ec_8cfb_0242ac1c0002row12_col3\" class=\"data row12 col3\" >10</td>\n",
              "                        <td id=\"T_fa58edb0_4ce7_11ec_8cfb_0242ac1c0002row12_col4\" class=\"data row12 col4\" >192</td>\n",
              "                        <td id=\"T_fa58edb0_4ce7_11ec_8cfb_0242ac1c0002row12_col5\" class=\"data row12 col5\" >254</td>\n",
              "                        <td id=\"T_fa58edb0_4ce7_11ec_8cfb_0242ac1c0002row12_col6\" class=\"data row12 col6\" >192</td>\n",
              "                        <td id=\"T_fa58edb0_4ce7_11ec_8cfb_0242ac1c0002row12_col7\" class=\"data row12 col7\" >76</td>\n",
              "                        <td id=\"T_fa58edb0_4ce7_11ec_8cfb_0242ac1c0002row12_col8\" class=\"data row12 col8\" >37</td>\n",
              "                        <td id=\"T_fa58edb0_4ce7_11ec_8cfb_0242ac1c0002row12_col9\" class=\"data row12 col9\" >151</td>\n",
              "                        <td id=\"T_fa58edb0_4ce7_11ec_8cfb_0242ac1c0002row12_col10\" class=\"data row12 col10\" >254</td>\n",
              "                        <td id=\"T_fa58edb0_4ce7_11ec_8cfb_0242ac1c0002row12_col11\" class=\"data row12 col11\" >254</td>\n",
              "                        <td id=\"T_fa58edb0_4ce7_11ec_8cfb_0242ac1c0002row12_col12\" class=\"data row12 col12\" >254</td>\n",
              "                        <td id=\"T_fa58edb0_4ce7_11ec_8cfb_0242ac1c0002row12_col13\" class=\"data row12 col13\" >199</td>\n",
              "                        <td id=\"T_fa58edb0_4ce7_11ec_8cfb_0242ac1c0002row12_col14\" class=\"data row12 col14\" >60</td>\n",
              "                        <td id=\"T_fa58edb0_4ce7_11ec_8cfb_0242ac1c0002row12_col15\" class=\"data row12 col15\" >0</td>\n",
              "                        <td id=\"T_fa58edb0_4ce7_11ec_8cfb_0242ac1c0002row12_col16\" class=\"data row12 col16\" >0</td>\n",
              "            </tr>\n",
              "            <tr>\n",
              "                        <th id=\"T_fa58edb0_4ce7_11ec_8cfb_0242ac1c0002level0_row13\" class=\"row_heading level0 row13\" >13</th>\n",
              "                        <td id=\"T_fa58edb0_4ce7_11ec_8cfb_0242ac1c0002row13_col0\" class=\"data row13 col0\" >0</td>\n",
              "                        <td id=\"T_fa58edb0_4ce7_11ec_8cfb_0242ac1c0002row13_col1\" class=\"data row13 col1\" >0</td>\n",
              "                        <td id=\"T_fa58edb0_4ce7_11ec_8cfb_0242ac1c0002row13_col2\" class=\"data row13 col2\" >0</td>\n",
              "                        <td id=\"T_fa58edb0_4ce7_11ec_8cfb_0242ac1c0002row13_col3\" class=\"data row13 col3\" >135</td>\n",
              "                        <td id=\"T_fa58edb0_4ce7_11ec_8cfb_0242ac1c0002row13_col4\" class=\"data row13 col4\" >254</td>\n",
              "                        <td id=\"T_fa58edb0_4ce7_11ec_8cfb_0242ac1c0002row13_col5\" class=\"data row13 col5\" >221</td>\n",
              "                        <td id=\"T_fa58edb0_4ce7_11ec_8cfb_0242ac1c0002row13_col6\" class=\"data row13 col6\" >11</td>\n",
              "                        <td id=\"T_fa58edb0_4ce7_11ec_8cfb_0242ac1c0002row13_col7\" class=\"data row13 col7\" >0</td>\n",
              "                        <td id=\"T_fa58edb0_4ce7_11ec_8cfb_0242ac1c0002row13_col8\" class=\"data row13 col8\" >23</td>\n",
              "                        <td id=\"T_fa58edb0_4ce7_11ec_8cfb_0242ac1c0002row13_col9\" class=\"data row13 col9\" >137</td>\n",
              "                        <td id=\"T_fa58edb0_4ce7_11ec_8cfb_0242ac1c0002row13_col10\" class=\"data row13 col10\" >254</td>\n",
              "                        <td id=\"T_fa58edb0_4ce7_11ec_8cfb_0242ac1c0002row13_col11\" class=\"data row13 col11\" >254</td>\n",
              "                        <td id=\"T_fa58edb0_4ce7_11ec_8cfb_0242ac1c0002row13_col12\" class=\"data row13 col12\" >254</td>\n",
              "                        <td id=\"T_fa58edb0_4ce7_11ec_8cfb_0242ac1c0002row13_col13\" class=\"data row13 col13\" >254</td>\n",
              "                        <td id=\"T_fa58edb0_4ce7_11ec_8cfb_0242ac1c0002row13_col14\" class=\"data row13 col14\" >243</td>\n",
              "                        <td id=\"T_fa58edb0_4ce7_11ec_8cfb_0242ac1c0002row13_col15\" class=\"data row13 col15\" >136</td>\n",
              "                        <td id=\"T_fa58edb0_4ce7_11ec_8cfb_0242ac1c0002row13_col16\" class=\"data row13 col16\" >0</td>\n",
              "            </tr>\n",
              "            <tr>\n",
              "                        <th id=\"T_fa58edb0_4ce7_11ec_8cfb_0242ac1c0002level0_row14\" class=\"row_heading level0 row14\" >14</th>\n",
              "                        <td id=\"T_fa58edb0_4ce7_11ec_8cfb_0242ac1c0002row14_col0\" class=\"data row14 col0\" >0</td>\n",
              "                        <td id=\"T_fa58edb0_4ce7_11ec_8cfb_0242ac1c0002row14_col1\" class=\"data row14 col1\" >0</td>\n",
              "                        <td id=\"T_fa58edb0_4ce7_11ec_8cfb_0242ac1c0002row14_col2\" class=\"data row14 col2\" >0</td>\n",
              "                        <td id=\"T_fa58edb0_4ce7_11ec_8cfb_0242ac1c0002row14_col3\" class=\"data row14 col3\" >149</td>\n",
              "                        <td id=\"T_fa58edb0_4ce7_11ec_8cfb_0242ac1c0002row14_col4\" class=\"data row14 col4\" >254</td>\n",
              "                        <td id=\"T_fa58edb0_4ce7_11ec_8cfb_0242ac1c0002row14_col5\" class=\"data row14 col5\" >105</td>\n",
              "                        <td id=\"T_fa58edb0_4ce7_11ec_8cfb_0242ac1c0002row14_col6\" class=\"data row14 col6\" >0</td>\n",
              "                        <td id=\"T_fa58edb0_4ce7_11ec_8cfb_0242ac1c0002row14_col7\" class=\"data row14 col7\" >73</td>\n",
              "                        <td id=\"T_fa58edb0_4ce7_11ec_8cfb_0242ac1c0002row14_col8\" class=\"data row14 col8\" >139</td>\n",
              "                        <td id=\"T_fa58edb0_4ce7_11ec_8cfb_0242ac1c0002row14_col9\" class=\"data row14 col9\" >254</td>\n",
              "                        <td id=\"T_fa58edb0_4ce7_11ec_8cfb_0242ac1c0002row14_col10\" class=\"data row14 col10\" >254</td>\n",
              "                        <td id=\"T_fa58edb0_4ce7_11ec_8cfb_0242ac1c0002row14_col11\" class=\"data row14 col11\" >134</td>\n",
              "                        <td id=\"T_fa58edb0_4ce7_11ec_8cfb_0242ac1c0002row14_col12\" class=\"data row14 col12\" >24</td>\n",
              "                        <td id=\"T_fa58edb0_4ce7_11ec_8cfb_0242ac1c0002row14_col13\" class=\"data row14 col13\" >128</td>\n",
              "                        <td id=\"T_fa58edb0_4ce7_11ec_8cfb_0242ac1c0002row14_col14\" class=\"data row14 col14\" >148</td>\n",
              "                        <td id=\"T_fa58edb0_4ce7_11ec_8cfb_0242ac1c0002row14_col15\" class=\"data row14 col15\" >181</td>\n",
              "                        <td id=\"T_fa58edb0_4ce7_11ec_8cfb_0242ac1c0002row14_col16\" class=\"data row14 col16\" >22</td>\n",
              "            </tr>\n",
              "    </tbody></table>"
            ],
            "text/plain": [
              "<pandas.io.formats.style.Styler at 0x7f01e855fb90>"
            ]
          },
          "metadata": {},
          "execution_count": 21
        }
      ]
    },
    {
      "cell_type": "code",
      "metadata": {
        "colab": {
          "base_uri": "https://localhost:8080/"
        },
        "id": "oli125Vnfbfh",
        "outputId": "adcf4120-ed8c-4d46-8c1c-10493ef69b86"
      },
      "source": [
        "nine_tensors = [tensor(Image.open(o)) for o in nines]\n",
        "two_tensors = [tensor(Image.open(o)) for o in twos]\n",
        "len(two_tensors), len(nine_tensors)\n"
      ],
      "execution_count": null,
      "outputs": [
        {
          "output_type": "execute_result",
          "data": {
            "text/plain": [
              "(5958, 5949)"
            ]
          },
          "metadata": {},
          "execution_count": 6
        }
      ]
    },
    {
      "cell_type": "code",
      "metadata": {
        "id": "GRuHRhzO-ub6"
      },
      "source": [
        "def init_params(size, std=1.0): return (torch.randn(size)*std).requires_grad_()\n",
        "weights = init_params((28*28,1))\n",
        "bias = init_params(1)"
      ],
      "execution_count": null,
      "outputs": []
    },
    {
      "cell_type": "code",
      "metadata": {
        "id": "0i8L82Njf1hm"
      },
      "source": [
        "stacked_twos = torch.stack(two_tensors).float()/255\n",
        "stacked_nines = torch.stack(nine_tensors).float()/255"
      ],
      "execution_count": null,
      "outputs": []
    },
    {
      "cell_type": "code",
      "metadata": {
        "colab": {
          "base_uri": "https://localhost:8080/"
        },
        "id": "Mc1z7dX35685",
        "outputId": "0cc6374d-9c85-4fda-c856-61563d665116"
      },
      "source": [
        "valid_2_tens = torch.stack([tensor(Image.open(o)) \n",
        "                            for o in (path/'testing'/'2').ls()])\n",
        "valid_2_tens = valid_2_tens.float()/255\n",
        "valid_9_tens = torch.stack([tensor(Image.open(o)) \n",
        "                            for o in (path/'testing'/'9').ls()])\n",
        "valid_2_tens = valid_2_tens.float()/255\n",
        "valid_9_tens.shape,valid_9_tens.shape #just to check whether both tensors are of the same size"
      ],
      "execution_count": null,
      "outputs": [
        {
          "output_type": "execute_result",
          "data": {
            "text/plain": [
              "(torch.Size([1009, 28, 28]), torch.Size([1009, 28, 28]))"
            ]
          },
          "metadata": {},
          "execution_count": 9
        }
      ]
    },
    {
      "cell_type": "code",
      "metadata": {
        "id": "81hr94zcgd7X",
        "colab": {
          "base_uri": "https://localhost:8080/"
        },
        "outputId": "639bed15-72c9-4a61-9f93-dfcfaf25d4e7"
      },
      "source": [
        "train_x = torch.cat([stacked_twos, stacked_nines]).view(-1, 28*28)\n",
        "train_y = tensor([1]*len(twos) + [0]*len(nines)).unsqueeze(1)\n",
        "dset = list(zip(train_x,train_y))\n",
        "x,y = dset[0]\n",
        "x.shape,y\n"
      ],
      "execution_count": null,
      "outputs": [
        {
          "output_type": "execute_result",
          "data": {
            "text/plain": [
              "(torch.Size([784]), tensor([1]))"
            ]
          },
          "metadata": {},
          "execution_count": 10
        }
      ]
    },
    {
      "cell_type": "code",
      "metadata": {
        "id": "ooa_OeCT8mLQ"
      },
      "source": [
        "valid_x = torch.cat([valid_2_tens, valid_9_tens]).view(-1, 28*28)\n",
        "valid_y = tensor([1]*len(valid_2_tens) + [0]*len(valid_9_tens)).unsqueeze(1)\n",
        "valid_dset = list(zip(valid_x,valid_y))"
      ],
      "execution_count": null,
      "outputs": []
    },
    {
      "cell_type": "code",
      "metadata": {
        "colab": {
          "base_uri": "https://localhost:8080/"
        },
        "id": "wpvkNPwbHftZ",
        "outputId": "a2c36f9f-bb46-4527-cbcf-180a54089f27"
      },
      "source": [
        "dl = DataLoader(dset, batch_size = 256)\n",
        "xb,yb = first(dl)\n",
        "xb.shape, yb.shape"
      ],
      "execution_count": null,
      "outputs": [
        {
          "output_type": "execute_result",
          "data": {
            "text/plain": [
              "(torch.Size([256, 784]), torch.Size([256, 1]))"
            ]
          },
          "metadata": {},
          "execution_count": 11
        }
      ]
    },
    {
      "cell_type": "code",
      "metadata": {
        "id": "CUvpnBdkHoH-"
      },
      "source": [
        "valid_dl = DataLoader(valid_dset,batch_size = 256)"
      ],
      "execution_count": null,
      "outputs": []
    },
    {
      "cell_type": "code",
      "metadata": {
        "colab": {
          "base_uri": "https://localhost:8080/"
        },
        "id": "FpsRXG4F_krb",
        "outputId": "f9aa3bc4-6805-47ae-e6d9-da981731c1ba"
      },
      "source": [
        "(train_x[0]*weights.T).sum() + bias"
      ],
      "execution_count": null,
      "outputs": [
        {
          "output_type": "execute_result",
          "data": {
            "text/plain": [
              "tensor([-12.3864], grad_fn=<AddBackward0>)"
            ]
          },
          "metadata": {},
          "execution_count": 14
        }
      ]
    },
    {
      "cell_type": "code",
      "metadata": {
        "colab": {
          "base_uri": "https://localhost:8080/"
        },
        "id": "as6qdCXKBChd",
        "outputId": "767e61ee-38f8-4a86-aaa8-e7acdb5bf869"
      },
      "source": [
        "def linear1(xb): return xb@weights + bias\n",
        "batch = train_x[:4]\n",
        "batch.shape\n",
        "preds = linear1(batch)\n",
        "preds"
      ],
      "execution_count": null,
      "outputs": [
        {
          "output_type": "execute_result",
          "data": {
            "text/plain": [
              "tensor([[-12.3864],\n",
              "        [ -6.0706],\n",
              "        [-12.1019],\n",
              "        [ -6.3618]], grad_fn=<AddBackward0>)"
            ]
          },
          "metadata": {},
          "execution_count": 15
        }
      ]
    },
    {
      "cell_type": "code",
      "metadata": {
        "id": "DL_Q2mgmDUJj"
      },
      "source": [
        "def mnist_loss(predictions, targets):\n",
        "    return torch.where(targets==1, 1-predictions, predictions).mean()\n",
        "def sigmoid(x): return 1/(1+torch.exp(-x))\n"
      ],
      "execution_count": null,
      "outputs": []
    },
    {
      "cell_type": "code",
      "metadata": {
        "id": "HeRgN5EcDURH"
      },
      "source": [
        "def mnist_loss(predictions, targets):\n",
        "    predictions = predictions.sigmoid()\n",
        "    return torch.where(targets==1, 1-predictions, predictions).mean()"
      ],
      "execution_count": null,
      "outputs": []
    },
    {
      "cell_type": "code",
      "metadata": {
        "colab": {
          "base_uri": "https://localhost:8080/"
        },
        "id": "THzyNhuSKiUh",
        "outputId": "b3de7a96-6d44-417c-97fe-1db15163c8c2"
      },
      "source": [
        "loss = mnist_loss(preds, train_y[:4])\n",
        "loss"
      ],
      "execution_count": null,
      "outputs": [
        {
          "output_type": "execute_result",
          "data": {
            "text/plain": [
              "tensor(0.9990, grad_fn=<MeanBackward0>)"
            ]
          },
          "metadata": {},
          "execution_count": 18
        }
      ]
    },
    {
      "cell_type": "code",
      "metadata": {
        "colab": {
          "base_uri": "https://localhost:8080/"
        },
        "id": "UbWclxtlKsm8",
        "outputId": "58cc3f76-f30d-4ce4-bf65-6072eba70850"
      },
      "source": [
        "loss.backward()\n",
        "weights.grad.shape,weights.grad.mean(),bias.grad"
      ],
      "execution_count": null,
      "outputs": [
        {
          "output_type": "execute_result",
          "data": {
            "text/plain": [
              "(torch.Size([784, 1]), tensor(-0.0001), tensor([-0.0010]))"
            ]
          },
          "metadata": {},
          "execution_count": 19
        }
      ]
    },
    {
      "cell_type": "code",
      "metadata": {
        "id": "NMiNhcg-QJvR"
      },
      "source": [
        "def calc_grad(xb, yb, model):\n",
        "    preds = model(xb)\n",
        "    loss = mnist_loss(preds, yb)\n",
        "    loss.backward()\n",
        "\n"
      ],
      "execution_count": null,
      "outputs": []
    },
    {
      "cell_type": "code",
      "metadata": {
        "id": "zT6nekoFSC4u"
      },
      "source": [
        "weights.grad.zero_()\n",
        "bias.grad.zero_();"
      ],
      "execution_count": null,
      "outputs": []
    },
    {
      "cell_type": "code",
      "metadata": {
        "id": "mb_u6BBMMGrS"
      },
      "source": [
        "\n",
        "def train_epoch(model, lr, params):\n",
        "    for xb,yb in dl:\n",
        "        calc_grad(xb, yb, model)\n",
        "        for p in params:\n",
        "            p.data -= p.grad*lr\n",
        "            p.grad.zero_()\n",
        "def batch_accuracy(xb, yb):\n",
        "    preds = xb.sigmoid()\n",
        "    correct = (preds>0.5) == yb\n",
        "    return correct.float().mean()\n",
        "\n",
        "\n",
        "  "
      ],
      "execution_count": null,
      "outputs": []
    },
    {
      "cell_type": "code",
      "metadata": {
        "colab": {
          "base_uri": "https://localhost:8080/"
        },
        "id": "vb0uQ1OwSMV9",
        "outputId": "ce010bc2-a566-46d1-a521-3393960a59de"
      },
      "source": [
        "batch_accuracy(linear1(batch), train_y[:4])"
      ],
      "execution_count": null,
      "outputs": [
        {
          "output_type": "execute_result",
          "data": {
            "text/plain": [
              "tensor(0.)"
            ]
          },
          "metadata": {},
          "execution_count": 23
        }
      ]
    },
    {
      "cell_type": "code",
      "metadata": {
        "id": "g-c8cs2QSQx3"
      },
      "source": [
        "def validate_epoch(model):\n",
        "    accs = [batch_accuracy(model(xb), yb) for xb,yb in valid_dl]\n",
        "    return round(torch.stack(accs).mean().item(), 4)"
      ],
      "execution_count": null,
      "outputs": []
    },
    {
      "cell_type": "code",
      "metadata": {
        "colab": {
          "base_uri": "https://localhost:8080/"
        },
        "id": "G4A_t9EsPiNa",
        "outputId": "5e72623c-7975-46df-ac34-6f7cc8b137e2"
      },
      "source": [
        "validate_epoch(linear1)\n"
      ],
      "execution_count": null,
      "outputs": [
        {
          "output_type": "execute_result",
          "data": {
            "text/plain": [
              "0.9389"
            ]
          },
          "metadata": {},
          "execution_count": 25
        }
      ]
    },
    {
      "cell_type": "code",
      "metadata": {
        "colab": {
          "base_uri": "https://localhost:8080/"
        },
        "id": "u8NVgwqbQA_U",
        "outputId": "781b744a-29de-4bd7-d02c-3000a0caec31"
      },
      "source": [
        "lr = 1.\n",
        "params = weights,bias\n",
        "train_epoch(linear1, lr, params)\n",
        "validate_epoch(linear1)"
      ],
      "execution_count": null,
      "outputs": [
        {
          "output_type": "execute_result",
          "data": {
            "text/plain": [
              "0.9896"
            ]
          },
          "metadata": {},
          "execution_count": 26
        }
      ]
    },
    {
      "cell_type": "code",
      "metadata": {
        "colab": {
          "base_uri": "https://localhost:8080/"
        },
        "id": "QCjVD77aQPsX",
        "outputId": "1d21e21e-cf63-4eb7-ecbf-b695e7107877"
      },
      "source": [
        "for i in range(25):\n",
        "    train_epoch(linear1, lr, params)\n",
        "    print(validate_epoch(linear1), end=' ')"
      ],
      "execution_count": null,
      "outputs": [
        {
          "output_type": "stream",
          "name": "stdout",
          "text": [
            "0.994 0.9941 0.995 0.9941 0.9951 0.9951 0.9951 0.9951 0.9956 0.9956 0.9956 0.9956 0.9956 0.9956 0.9956 0.9956 0.9951 0.9946 0.9946 0.9946 0.9946 0.9946 0.9946 0.9946 0.9946 "
          ]
        }
      ]
    },
    {
      "cell_type": "code",
      "metadata": {
        "colab": {
          "base_uri": "https://localhost:8080/"
        },
        "id": "UEn9E2N0ekps",
        "outputId": "ea1eae5a-6323-4a5a-c1dd-b55ccaefdcdd"
      },
      "source": [
        "linear_model = nn.Linear(28*28,1)\n",
        "w,b = linear_model.parameters()\n",
        "w.shape,b.shape\n",
        "class BasicOptim:\n",
        "    def __init__(self,params,lr): self.params,self.lr = list(params),lr\n",
        "\n",
        "    def step(self, *args, **kwargs):\n",
        "        for p in self.params: p.data -= p.grad.data * self.lr\n",
        "\n",
        "    def zero_grad(self, *args, **kwargs):\n",
        "        for p in self.params: p.grad = None\n",
        "opt = BasicOptim(linear_model.parameters(), lr)\n",
        "def train_epoch(model):\n",
        "    for xb,yb in dl:\n",
        "        calc_grad(xb, yb, model)\n",
        "        opt.step()\n",
        "        opt.zero_grad()\n",
        "validate_epoch(linear_model)\n"
      ],
      "execution_count": null,
      "outputs": [
        {
          "output_type": "execute_result",
          "data": {
            "text/plain": [
              "0.2812"
            ]
          },
          "metadata": {},
          "execution_count": 33
        }
      ]
    },
    {
      "cell_type": "code",
      "metadata": {
        "id": "r7o6k02rd6Dc"
      },
      "source": [
        "def train_model(model, epochs):\n",
        "    for i in range(epochs):\n",
        "        train_epoch(model)\n",
        "        print(validate_epoch(model), end=' ') "
      ],
      "execution_count": null,
      "outputs": []
    },
    {
      "cell_type": "code",
      "metadata": {
        "colab": {
          "base_uri": "https://localhost:8080/"
        },
        "id": "-b9pjMY2d1Qf",
        "outputId": "90574f0d-b073-45d8-ddf9-bcb0994f94cf"
      },
      "source": [
        "linear_model = nn.Linear(28*28,1)\n",
        "opt = SGD(linear_model.parameters(), lr)\n",
        "train_model(linear_model, 20)\n"
      ],
      "execution_count": null,
      "outputs": [
        {
          "output_type": "stream",
          "name": "stdout",
          "text": [
            "0.5039 0.5039 0.5039 0.4961 0.4956 0.4956 0.4956 0.4951 0.4951 0.4946 0.4946 0.4946 0.4946 0.4946 0.4946 0.4941 0.4941 0.4941 0.4941 0.4941 "
          ]
        }
      ]
    },
    {
      "cell_type": "code",
      "metadata": {
        "id": "sLwvoDdSfyJo"
      },
      "source": [
        "def simple_net(xb):\n",
        "  res = xb@w1 + b1\n",
        "  res = res.max(tensor(0.0))\n",
        "  res = res@w2 + b2\n",
        "  return res\n",
        "simple_net = nn.Sequential(\n",
        "    nn.Linear(28*28,30),\n",
        "    nn.ReLU(),\n",
        "    nn.Linear(30,1)\n",
        ")"
      ],
      "execution_count": null,
      "outputs": []
    },
    {
      "cell_type": "code",
      "metadata": {
        "id": "njVa3cQthXTy"
      },
      "source": [
        "dls = DataLoaders(dl,valid_dl)"
      ],
      "execution_count": null,
      "outputs": []
    },
    {
      "cell_type": "code",
      "metadata": {
        "colab": {
          "base_uri": "https://localhost:8080/",
          "height": 514
        },
        "id": "NOybT48TgPKW",
        "outputId": "060400f9-e582-4a91-de06-1eec24945937"
      },
      "source": [
        "learn = Learner(dls, simple_net, opt_func=SGD,\n",
        "                loss_func=mnist_loss, metrics=batch_accuracy)\n",
        "learn.fit(15,0.1)"
      ],
      "execution_count": null,
      "outputs": [
        {
          "output_type": "display_data",
          "data": {
            "text/html": [
              "<table border=\"1\" class=\"dataframe\">\n",
              "  <thead>\n",
              "    <tr style=\"text-align: left;\">\n",
              "      <th>epoch</th>\n",
              "      <th>train_loss</th>\n",
              "      <th>valid_loss</th>\n",
              "      <th>batch_accuracy</th>\n",
              "      <th>time</th>\n",
              "    </tr>\n",
              "  </thead>\n",
              "  <tbody>\n",
              "    <tr>\n",
              "      <td>0</td>\n",
              "      <td>0.009757</td>\n",
              "      <td>0.242438</td>\n",
              "      <td>0.995100</td>\n",
              "      <td>00:00</td>\n",
              "    </tr>\n",
              "    <tr>\n",
              "      <td>1</td>\n",
              "      <td>0.009730</td>\n",
              "      <td>0.242216</td>\n",
              "      <td>0.996080</td>\n",
              "      <td>00:00</td>\n",
              "    </tr>\n",
              "    <tr>\n",
              "      <td>2</td>\n",
              "      <td>0.009698</td>\n",
              "      <td>0.241988</td>\n",
              "      <td>0.996080</td>\n",
              "      <td>00:00</td>\n",
              "    </tr>\n",
              "    <tr>\n",
              "      <td>3</td>\n",
              "      <td>0.009664</td>\n",
              "      <td>0.241760</td>\n",
              "      <td>0.996080</td>\n",
              "      <td>00:00</td>\n",
              "    </tr>\n",
              "    <tr>\n",
              "      <td>4</td>\n",
              "      <td>0.009629</td>\n",
              "      <td>0.241526</td>\n",
              "      <td>0.996080</td>\n",
              "      <td>00:00</td>\n",
              "    </tr>\n",
              "    <tr>\n",
              "      <td>5</td>\n",
              "      <td>0.009593</td>\n",
              "      <td>0.241288</td>\n",
              "      <td>0.996080</td>\n",
              "      <td>00:00</td>\n",
              "    </tr>\n",
              "    <tr>\n",
              "      <td>6</td>\n",
              "      <td>0.009557</td>\n",
              "      <td>0.241049</td>\n",
              "      <td>0.996570</td>\n",
              "      <td>00:00</td>\n",
              "    </tr>\n",
              "    <tr>\n",
              "      <td>7</td>\n",
              "      <td>0.009521</td>\n",
              "      <td>0.240807</td>\n",
              "      <td>0.996570</td>\n",
              "      <td>00:00</td>\n",
              "    </tr>\n",
              "    <tr>\n",
              "      <td>8</td>\n",
              "      <td>0.009486</td>\n",
              "      <td>0.240560</td>\n",
              "      <td>0.996570</td>\n",
              "      <td>00:00</td>\n",
              "    </tr>\n",
              "    <tr>\n",
              "      <td>9</td>\n",
              "      <td>0.009450</td>\n",
              "      <td>0.240313</td>\n",
              "      <td>0.996570</td>\n",
              "      <td>00:00</td>\n",
              "    </tr>\n",
              "    <tr>\n",
              "      <td>10</td>\n",
              "      <td>0.009415</td>\n",
              "      <td>0.240061</td>\n",
              "      <td>0.996570</td>\n",
              "      <td>00:00</td>\n",
              "    </tr>\n",
              "    <tr>\n",
              "      <td>11</td>\n",
              "      <td>0.009381</td>\n",
              "      <td>0.239807</td>\n",
              "      <td>0.996570</td>\n",
              "      <td>00:00</td>\n",
              "    </tr>\n",
              "    <tr>\n",
              "      <td>12</td>\n",
              "      <td>0.009347</td>\n",
              "      <td>0.239551</td>\n",
              "      <td>0.996570</td>\n",
              "      <td>00:00</td>\n",
              "    </tr>\n",
              "    <tr>\n",
              "      <td>13</td>\n",
              "      <td>0.009313</td>\n",
              "      <td>0.239293</td>\n",
              "      <td>0.996570</td>\n",
              "      <td>00:00</td>\n",
              "    </tr>\n",
              "    <tr>\n",
              "      <td>14</td>\n",
              "      <td>0.009279</td>\n",
              "      <td>0.239035</td>\n",
              "      <td>0.996570</td>\n",
              "      <td>00:00</td>\n",
              "    </tr>\n",
              "  </tbody>\n",
              "</table>"
            ],
            "text/plain": [
              "<IPython.core.display.HTML object>"
            ]
          },
          "metadata": {}
        }
      ]
    },
    {
      "cell_type": "code",
      "metadata": {
        "colab": {
          "base_uri": "https://localhost:8080/"
        },
        "id": "GYYcT8nyijEf",
        "outputId": "498a75d4-d76d-4f19-cb89-f518ea1a6f3b"
      },
      "source": [
        "m = learn.model\n",
        "m "
      ],
      "execution_count": null,
      "outputs": [
        {
          "output_type": "execute_result",
          "data": {
            "text/plain": [
              "Sequential(\n",
              "  (0): Linear(in_features=784, out_features=30, bias=True)\n",
              "  (1): ReLU()\n",
              "  (2): Linear(in_features=30, out_features=1, bias=True)\n",
              ")"
            ]
          },
          "metadata": {},
          "execution_count": 70
        }
      ]
    },
    {
      "cell_type": "code",
      "metadata": {
        "id": "akuPMSw2ix_i"
      },
      "source": [
        "w,b = m[0].parameters()"
      ],
      "execution_count": null,
      "outputs": []
    },
    {
      "cell_type": "code",
      "metadata": {
        "colab": {
          "base_uri": "https://localhost:8080/",
          "height": 102
        },
        "id": "oBZ5yu46h_gO",
        "outputId": "d29198b5-0552-4de3-e1ab-41b63d367f81"
      },
      "source": [
        "show_image(w[29].view(28,28))"
      ],
      "execution_count": null,
      "outputs": [
        {
          "output_type": "execute_result",
          "data": {
            "text/plain": [
              "<matplotlib.axes._subplots.AxesSubplot at 0x7fd7e7dac150>"
            ]
          },
          "metadata": {},
          "execution_count": 79
        },
        {
          "output_type": "display_data",
          "data": {
            "image/png": "[encoded data removed]",
            "text/plain": [
              "<Figure size 72x72 with 1 Axes>"
            ]
          },
          "metadata": {
            "needs_background": "light"
          }
        }
      ]
    },
    {
      "cell_type": "code",
      "metadata": {
        "id": "vL8rI09zguBm"
      },
      "source": [
        "cnn_learner??"
      ],
      "execution_count": null,
      "outputs": []
    }
  ]
}